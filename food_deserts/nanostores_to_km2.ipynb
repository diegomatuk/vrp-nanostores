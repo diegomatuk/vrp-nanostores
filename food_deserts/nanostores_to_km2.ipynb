{
 "cells": [
  {
   "cell_type": "markdown",
   "metadata": {},
   "source": [
    "# Introduction\n",
    "State notebook purpose here"
   ]
  },
  {
   "cell_type": "markdown",
   "metadata": {},
   "source": [
    "### Imports\n",
    "Import libraries and write settings here."
   ]
  },
  {
   "cell_type": "code",
   "execution_count": 2,
   "metadata": {},
   "outputs": [],
   "source": [
    "# Geographic libraries\n",
    "import geopandas as gpd\n",
    "from shapely.geometry import Point\n",
    "\n",
    "# Data manipulation\n",
    "import pandas as pd\n",
    "import numpy as np\n",
    "\n",
    "# graph\n",
    "import matplotlib.pyplot as plt"
   ]
  },
  {
   "cell_type": "code",
   "execution_count": 3,
   "metadata": {},
   "outputs": [],
   "source": [
    "%matplotlib inline"
   ]
  },
  {
   "cell_type": "markdown",
   "metadata": {},
   "source": [
    "# Analysis/Modeling\n",
    "Do work here"
   ]
  },
  {
   "cell_type": "code",
   "execution_count": 5,
   "metadata": {},
   "outputs": [],
   "source": [
    "gdf = gpd.read_file('outputs/newvars_surveys.geojson', driver='GeoJSON')"
   ]
  },
  {
   "cell_type": "code",
   "execution_count": 6,
   "metadata": {},
   "outputs": [
    {
     "data": {
      "text/html": [
       "<div>\n",
       "<style scoped>\n",
       "    .dataframe tbody tr th:only-of-type {\n",
       "        vertical-align: middle;\n",
       "    }\n",
       "\n",
       "    .dataframe tbody tr th {\n",
       "        vertical-align: top;\n",
       "    }\n",
       "\n",
       "    .dataframe thead th {\n",
       "        text-align: right;\n",
       "    }\n",
       "</style>\n",
       "<table border=\"1\" class=\"dataframe\">\n",
       "  <thead>\n",
       "    <tr style=\"text-align: right;\">\n",
       "      <th></th>\n",
       "      <th>latitude</th>\n",
       "      <th>longitude</th>\n",
       "      <th>venta_frutas</th>\n",
       "      <th>venta_verduras</th>\n",
       "      <th>superficie_bodega</th>\n",
       "      <th>num_personas</th>\n",
       "      <th>hora_apertura_semana</th>\n",
       "      <th>hora_cierre_semana</th>\n",
       "      <th>abre_fin_de_semana</th>\n",
       "      <th>horario_atencion_igual</th>\n",
       "      <th>...</th>\n",
       "      <th>gps_altitude</th>\n",
       "      <th>ventaFyV</th>\n",
       "      <th>in_food_desert</th>\n",
       "      <th>index_right</th>\n",
       "      <th>distrito</th>\n",
       "      <th>distance_to_market</th>\n",
       "      <th>dist_2closest_mkt</th>\n",
       "      <th>index_right2</th>\n",
       "      <th>NSE07</th>\n",
       "      <th>geometry</th>\n",
       "    </tr>\n",
       "  </thead>\n",
       "  <tbody>\n",
       "    <tr>\n",
       "      <td>0</td>\n",
       "      <td>-11.96299</td>\n",
       "      <td>-77.01987</td>\n",
       "      <td>1.0</td>\n",
       "      <td>1.0</td>\n",
       "      <td>None</td>\n",
       "      <td>NaN</td>\n",
       "      <td>None</td>\n",
       "      <td>None</td>\n",
       "      <td>None</td>\n",
       "      <td>None</td>\n",
       "      <td>...</td>\n",
       "      <td>NaN</td>\n",
       "      <td>3</td>\n",
       "      <td>True</td>\n",
       "      <td>30</td>\n",
       "      <td>SAN JUAN DE LURIGANCHO</td>\n",
       "      <td>12230.42245</td>\n",
       "      <td>1127.519607</td>\n",
       "      <td>20742.0</td>\n",
       "      <td>None</td>\n",
       "      <td>POINT (-77.01987 -11.96299)</td>\n",
       "    </tr>\n",
       "    <tr>\n",
       "      <td>1</td>\n",
       "      <td>-12.00862</td>\n",
       "      <td>-76.97680</td>\n",
       "      <td>1.0</td>\n",
       "      <td>1.0</td>\n",
       "      <td>None</td>\n",
       "      <td>NaN</td>\n",
       "      <td>None</td>\n",
       "      <td>None</td>\n",
       "      <td>None</td>\n",
       "      <td>None</td>\n",
       "      <td>...</td>\n",
       "      <td>NaN</td>\n",
       "      <td>3</td>\n",
       "      <td>True</td>\n",
       "      <td>30</td>\n",
       "      <td>SAN JUAN DE LURIGANCHO</td>\n",
       "      <td>NaN</td>\n",
       "      <td>1244.469289</td>\n",
       "      <td>69383.0</td>\n",
       "      <td>ME</td>\n",
       "      <td>POINT (-76.9768 -12.00862)</td>\n",
       "    </tr>\n",
       "    <tr>\n",
       "      <td>2</td>\n",
       "      <td>-12.00912</td>\n",
       "      <td>-76.97629</td>\n",
       "      <td>1.0</td>\n",
       "      <td>1.0</td>\n",
       "      <td>None</td>\n",
       "      <td>NaN</td>\n",
       "      <td>None</td>\n",
       "      <td>None</td>\n",
       "      <td>None</td>\n",
       "      <td>None</td>\n",
       "      <td>...</td>\n",
       "      <td>NaN</td>\n",
       "      <td>3</td>\n",
       "      <td>True</td>\n",
       "      <td>30</td>\n",
       "      <td>SAN JUAN DE LURIGANCHO</td>\n",
       "      <td>NaN</td>\n",
       "      <td>1243.880937</td>\n",
       "      <td>69388.0</td>\n",
       "      <td>ME</td>\n",
       "      <td>POINT (-76.97629000000001 -12.00912)</td>\n",
       "    </tr>\n",
       "    <tr>\n",
       "      <td>3</td>\n",
       "      <td>-12.00759</td>\n",
       "      <td>-76.97502</td>\n",
       "      <td>0.0</td>\n",
       "      <td>0.0</td>\n",
       "      <td>None</td>\n",
       "      <td>NaN</td>\n",
       "      <td>None</td>\n",
       "      <td>None</td>\n",
       "      <td>None</td>\n",
       "      <td>None</td>\n",
       "      <td>...</td>\n",
       "      <td>NaN</td>\n",
       "      <td>0</td>\n",
       "      <td>True</td>\n",
       "      <td>30</td>\n",
       "      <td>SAN JUAN DE LURIGANCHO</td>\n",
       "      <td>NaN</td>\n",
       "      <td>1431.075633</td>\n",
       "      <td>NaN</td>\n",
       "      <td>None</td>\n",
       "      <td>POINT (-76.97502 -12.00759)</td>\n",
       "    </tr>\n",
       "    <tr>\n",
       "      <td>4</td>\n",
       "      <td>-12.22318</td>\n",
       "      <td>-76.97934</td>\n",
       "      <td>1.0</td>\n",
       "      <td>1.0</td>\n",
       "      <td>None</td>\n",
       "      <td>NaN</td>\n",
       "      <td>None</td>\n",
       "      <td>None</td>\n",
       "      <td>None</td>\n",
       "      <td>None</td>\n",
       "      <td>...</td>\n",
       "      <td>NaN</td>\n",
       "      <td>3</td>\n",
       "      <td>True</td>\n",
       "      <td>27</td>\n",
       "      <td>CHORRILLOS</td>\n",
       "      <td>12230.42245</td>\n",
       "      <td>2204.734733</td>\n",
       "      <td>89397.0</td>\n",
       "      <td>None</td>\n",
       "      <td>POINT (-76.97933999999999 -12.22318)</td>\n",
       "    </tr>\n",
       "  </tbody>\n",
       "</table>\n",
       "<p>5 rows × 39 columns</p>\n",
       "</div>"
      ],
      "text/plain": [
       "   latitude  longitude  venta_frutas  venta_verduras superficie_bodega  \\\n",
       "0 -11.96299  -77.01987           1.0             1.0              None   \n",
       "1 -12.00862  -76.97680           1.0             1.0              None   \n",
       "2 -12.00912  -76.97629           1.0             1.0              None   \n",
       "3 -12.00759  -76.97502           0.0             0.0              None   \n",
       "4 -12.22318  -76.97934           1.0             1.0              None   \n",
       "\n",
       "   num_personas hora_apertura_semana hora_cierre_semana abre_fin_de_semana  \\\n",
       "0           NaN                 None               None               None   \n",
       "1           NaN                 None               None               None   \n",
       "2           NaN                 None               None               None   \n",
       "3           NaN                 None               None               None   \n",
       "4           NaN                 None               None               None   \n",
       "\n",
       "  horario_atencion_igual  ... gps_altitude ventaFyV  in_food_desert  \\\n",
       "0                   None  ...          NaN        3            True   \n",
       "1                   None  ...          NaN        3            True   \n",
       "2                   None  ...          NaN        3            True   \n",
       "3                   None  ...          NaN        0            True   \n",
       "4                   None  ...          NaN        3            True   \n",
       "\n",
       "   index_right                distrito  distance_to_market  dist_2closest_mkt  \\\n",
       "0           30  SAN JUAN DE LURIGANCHO         12230.42245        1127.519607   \n",
       "1           30  SAN JUAN DE LURIGANCHO                 NaN        1244.469289   \n",
       "2           30  SAN JUAN DE LURIGANCHO                 NaN        1243.880937   \n",
       "3           30  SAN JUAN DE LURIGANCHO                 NaN        1431.075633   \n",
       "4           27              CHORRILLOS         12230.42245        2204.734733   \n",
       "\n",
       "  index_right2 NSE07                              geometry  \n",
       "0      20742.0  None           POINT (-77.01987 -11.96299)  \n",
       "1      69383.0    ME            POINT (-76.9768 -12.00862)  \n",
       "2      69388.0    ME  POINT (-76.97629000000001 -12.00912)  \n",
       "3          NaN  None           POINT (-76.97502 -12.00759)  \n",
       "4      89397.0  None  POINT (-76.97933999999999 -12.22318)  \n",
       "\n",
       "[5 rows x 39 columns]"
      ]
     },
     "execution_count": 6,
     "metadata": {},
     "output_type": "execute_result"
    }
   ],
   "source": [
    "gdf.head()"
   ]
  },
  {
   "cell_type": "code",
   "execution_count": 7,
   "metadata": {},
   "outputs": [],
   "source": [
    "city_blocks = gpd.read_file('inputs/manzanas_nse/mz_lima_region.shp') "
   ]
  },
  {
   "cell_type": "code",
   "execution_count": 8,
   "metadata": {},
   "outputs": [
    {
     "data": {
      "text/html": [
       "<div>\n",
       "<style scoped>\n",
       "    .dataframe tbody tr th:only-of-type {\n",
       "        vertical-align: middle;\n",
       "    }\n",
       "\n",
       "    .dataframe tbody tr th {\n",
       "        vertical-align: top;\n",
       "    }\n",
       "\n",
       "    .dataframe thead th {\n",
       "        text-align: right;\n",
       "    }\n",
       "</style>\n",
       "<table border=\"1\" class=\"dataframe\">\n",
       "  <thead>\n",
       "    <tr style=\"text-align: right;\">\n",
       "      <th></th>\n",
       "      <th>IDMANZANA</th>\n",
       "      <th>CODZONA</th>\n",
       "      <th>CODMZNA</th>\n",
       "      <th>CLASIFICAC</th>\n",
       "      <th>UBIGEO</th>\n",
       "      <th>NOMBREMZNA</th>\n",
       "      <th>URBANIZACI</th>\n",
       "      <th>NSE07</th>\n",
       "      <th>POB07</th>\n",
       "      <th>VIV07</th>\n",
       "      <th>LONGITUDE</th>\n",
       "      <th>LATITUDE</th>\n",
       "      <th>geometry</th>\n",
       "    </tr>\n",
       "  </thead>\n",
       "  <tbody>\n",
       "    <tr>\n",
       "      <td>0</td>\n",
       "      <td>150728</td>\n",
       "      <td>None</td>\n",
       "      <td>None</td>\n",
       "      <td>1</td>\n",
       "      <td>150728</td>\n",
       "      <td>None</td>\n",
       "      <td>None</td>\n",
       "      <td>None</td>\n",
       "      <td>0</td>\n",
       "      <td>0</td>\n",
       "      <td>-76.671052</td>\n",
       "      <td>-11.916842</td>\n",
       "      <td>POLYGON ((-76.67378600000001 -11.916084, -76.6...</td>\n",
       "    </tr>\n",
       "    <tr>\n",
       "      <td>1</td>\n",
       "      <td>150728</td>\n",
       "      <td>None</td>\n",
       "      <td>None</td>\n",
       "      <td>1</td>\n",
       "      <td>150728</td>\n",
       "      <td>None</td>\n",
       "      <td>ASOC PUEBLO NUEVO DE BUENOS AIRES</td>\n",
       "      <td>None</td>\n",
       "      <td>0</td>\n",
       "      <td>0</td>\n",
       "      <td>-76.672482</td>\n",
       "      <td>-11.914053</td>\n",
       "      <td>POLYGON ((-76.67319000000001 -11.914454, -76.6...</td>\n",
       "    </tr>\n",
       "    <tr>\n",
       "      <td>2</td>\n",
       "      <td>150728</td>\n",
       "      <td>None</td>\n",
       "      <td>None</td>\n",
       "      <td>1</td>\n",
       "      <td>150728</td>\n",
       "      <td>None</td>\n",
       "      <td>ASOC PUEBLO NUEVO DE BUENOS AIRES</td>\n",
       "      <td>None</td>\n",
       "      <td>0</td>\n",
       "      <td>0</td>\n",
       "      <td>-76.673467</td>\n",
       "      <td>-11.914446</td>\n",
       "      <td>POLYGON ((-76.67368399999999 -11.914412, -76.6...</td>\n",
       "    </tr>\n",
       "    <tr>\n",
       "      <td>3</td>\n",
       "      <td>150728</td>\n",
       "      <td>None</td>\n",
       "      <td>None</td>\n",
       "      <td>1</td>\n",
       "      <td>150728</td>\n",
       "      <td>None</td>\n",
       "      <td>ASOC PUEBLO NUEVO DE BUENOS AIRES</td>\n",
       "      <td>None</td>\n",
       "      <td>0</td>\n",
       "      <td>0</td>\n",
       "      <td>-76.673106</td>\n",
       "      <td>-11.914645</td>\n",
       "      <td>POLYGON ((-76.673509 -11.914734, -76.673212000...</td>\n",
       "    </tr>\n",
       "    <tr>\n",
       "      <td>4</td>\n",
       "      <td>150728</td>\n",
       "      <td>None</td>\n",
       "      <td>None</td>\n",
       "      <td>1</td>\n",
       "      <td>150728</td>\n",
       "      <td>None</td>\n",
       "      <td>ASOC PUEBLO NUEVO DE BUENOS AIRES</td>\n",
       "      <td>None</td>\n",
       "      <td>0</td>\n",
       "      <td>0</td>\n",
       "      <td>-76.672936</td>\n",
       "      <td>-11.914838</td>\n",
       "      <td>POLYGON ((-76.67334700000001 -11.914924, -76.6...</td>\n",
       "    </tr>\n",
       "  </tbody>\n",
       "</table>\n",
       "</div>"
      ],
      "text/plain": [
       "  IDMANZANA CODZONA CODMZNA  CLASIFICAC  UBIGEO NOMBREMZNA  \\\n",
       "0    150728    None    None           1  150728       None   \n",
       "1    150728    None    None           1  150728       None   \n",
       "2    150728    None    None           1  150728       None   \n",
       "3    150728    None    None           1  150728       None   \n",
       "4    150728    None    None           1  150728       None   \n",
       "\n",
       "                          URBANIZACI NSE07  POB07  VIV07  LONGITUDE  \\\n",
       "0                               None  None      0      0 -76.671052   \n",
       "1  ASOC PUEBLO NUEVO DE BUENOS AIRES  None      0      0 -76.672482   \n",
       "2  ASOC PUEBLO NUEVO DE BUENOS AIRES  None      0      0 -76.673467   \n",
       "3  ASOC PUEBLO NUEVO DE BUENOS AIRES  None      0      0 -76.673106   \n",
       "4  ASOC PUEBLO NUEVO DE BUENOS AIRES  None      0      0 -76.672936   \n",
       "\n",
       "    LATITUDE                                           geometry  \n",
       "0 -11.916842  POLYGON ((-76.67378600000001 -11.916084, -76.6...  \n",
       "1 -11.914053  POLYGON ((-76.67319000000001 -11.914454, -76.6...  \n",
       "2 -11.914446  POLYGON ((-76.67368399999999 -11.914412, -76.6...  \n",
       "3 -11.914645  POLYGON ((-76.673509 -11.914734, -76.673212000...  \n",
       "4 -11.914838  POLYGON ((-76.67334700000001 -11.914924, -76.6...  "
      ]
     },
     "execution_count": 8,
     "metadata": {},
     "output_type": "execute_result"
    }
   ],
   "source": [
    "city_blocks.head()"
   ]
  },
  {
   "cell_type": "code",
   "execution_count": 9,
   "metadata": {},
   "outputs": [
    {
     "data": {
      "text/plain": [
       "(710, 39)"
      ]
     },
     "execution_count": 9,
     "metadata": {},
     "output_type": "execute_result"
    }
   ],
   "source": [
    "gdf.shape"
   ]
  },
  {
   "cell_type": "code",
   "execution_count": 11,
   "metadata": {},
   "outputs": [],
   "source": [
    "gdf_nse = gpd.sjoin(left_df=gdf,\n",
    "              right_df=city_blocks[['NSE07','geometry']],\n",
    "              how='left',\n",
    "              op='intersects',\n",
    "              lsuffix='left3',\n",
    "              rsuffix='right3')"
   ]
  },
  {
   "cell_type": "code",
   "execution_count": 12,
   "metadata": {},
   "outputs": [
    {
     "data": {
      "text/plain": [
       "latitude                         0\n",
       "longitude                        0\n",
       "venta_frutas                    90\n",
       "venta_verduras                  90\n",
       "superficie_bodega              712\n",
       "num_personas                   305\n",
       "hora_apertura_semana           326\n",
       "hora_cierre_semana             327\n",
       "abre_fin_de_semana             327\n",
       "horario_atencion_igual         371\n",
       "hora_apertura_fin_de_semana    475\n",
       "hora_cierre_fin_de_semana      478\n",
       "num_entregas_general           130\n",
       "num_recojos_general            153\n",
       "num_lugares                    405\n",
       "num_entregas_fv                419\n",
       "num_recojos_fv                 418\n",
       "lugar_principal                439\n",
       "vehiculo_recojo                433\n",
       "vehiculo_recojo_other          690\n",
       "num_viajes_lugar_principal     431\n",
       "cant_carga                     425\n",
       "cant_sku                       419\n",
       "cadena_frio                    411\n",
       "cant_merma                     426\n",
       "motivo_si_oferta               503\n",
       "motivo_si_oferta_other         661\n",
       "motivo_no_oferta               497\n",
       "motivo_no_oferta_other         636\n",
       "gps_altitude                   393\n",
       "ventaFyV                         0\n",
       "in_food_desert                   0\n",
       "index_right                      0\n",
       "distrito                         0\n",
       "distance_to_market             586\n",
       "dist_2closest_mkt                0\n",
       "index_right2                   421\n",
       "NSE07_left3                    486\n",
       "geometry                         0\n",
       "index_right3                   421\n",
       "NSE07_right3                   486\n",
       "dtype: int64"
      ]
     },
     "execution_count": 12,
     "metadata": {},
     "output_type": "execute_result"
    }
   ],
   "source": [
    "gdf_nse.isna().sum()"
   ]
  },
  {
   "cell_type": "code",
   "execution_count": 13,
   "metadata": {},
   "outputs": [],
   "source": [
    "nanostores = pd.read_csv('inputs/nanostores.csv')"
   ]
  },
  {
   "cell_type": "code",
   "execution_count": 14,
   "metadata": {},
   "outputs": [],
   "source": [
    "nanostores = gpd.GeoDataFrame(\n",
    "    data=nanostores,\n",
    "    crs={'init': 'epsg:4326'},\n",
    "    geometry=[Point(xy) for xy in zip(nanostores['COORDX'], nanostores['COORDY'])]\n",
    ")"
   ]
  },
  {
   "cell_type": "code",
   "execution_count": 15,
   "metadata": {},
   "outputs": [
    {
     "data": {
      "text/html": [
       "<div>\n",
       "<style scoped>\n",
       "    .dataframe tbody tr th:only-of-type {\n",
       "        vertical-align: middle;\n",
       "    }\n",
       "\n",
       "    .dataframe tbody tr th {\n",
       "        vertical-align: top;\n",
       "    }\n",
       "\n",
       "    .dataframe thead th {\n",
       "        text-align: right;\n",
       "    }\n",
       "</style>\n",
       "<table border=\"1\" class=\"dataframe\">\n",
       "  <thead>\n",
       "    <tr style=\"text-align: right;\">\n",
       "      <th></th>\n",
       "      <th>NOMBCOMP1</th>\n",
       "      <th>ZONADIST</th>\n",
       "      <th>RUTA</th>\n",
       "      <th>NOM_GIRO</th>\n",
       "      <th>NOM_SUBGIRO</th>\n",
       "      <th>ZONAPOSTAL</th>\n",
       "      <th>TELEFONO</th>\n",
       "      <th>DOMICILIO</th>\n",
       "      <th>DISTRITO</th>\n",
       "      <th>DESCRIP</th>\n",
       "      <th>COORDX</th>\n",
       "      <th>COORDY</th>\n",
       "      <th>DIRFISCAL</th>\n",
       "      <th>DIRENTREGA</th>\n",
       "      <th>DESCRIP_DEPA</th>\n",
       "      <th>geometry</th>\n",
       "    </tr>\n",
       "  </thead>\n",
       "  <tbody>\n",
       "    <tr>\n",
       "      <td>0</td>\n",
       "      <td>LANDEO AQUINO, JAQUELIN MARGARITA</td>\n",
       "      <td>2</td>\n",
       "      <td>3</td>\n",
       "      <td>NaN</td>\n",
       "      <td>NaN</td>\n",
       "      <td>150143</td>\n",
       "      <td>NaN</td>\n",
       "      <td>URB VILLA MARIA T. JR EL CARMEN Nro.301       ...</td>\n",
       "      <td>43</td>\n",
       "      <td>VILLA MARIA DEL TRIUNFO</td>\n",
       "      <td>-76.950193</td>\n",
       "      <td>-12.163427</td>\n",
       "      <td>JR. EL CARMEN NRO.321        LIMA-LIMA-VILLA M...</td>\n",
       "      <td>URB VILLA MARIA T. JR EL CARMEN Nro.301</td>\n",
       "      <td>LIMA</td>\n",
       "      <td>POINT (-76.950193 -12.163427)</td>\n",
       "    </tr>\n",
       "    <tr>\n",
       "      <td>1</td>\n",
       "      <td>RIVAS DE AVILA, MARCELA</td>\n",
       "      <td>2</td>\n",
       "      <td>3</td>\n",
       "      <td>NaN</td>\n",
       "      <td>NaN</td>\n",
       "      <td>150143</td>\n",
       "      <td>2595098</td>\n",
       "      <td>JR TUPAC AMARU Nro.224                       ...</td>\n",
       "      <td>43</td>\n",
       "      <td>VILLA MARIA DEL TRIUNFO</td>\n",
       "      <td>-76.932361</td>\n",
       "      <td>-12.175411</td>\n",
       "      <td>LIMA-LIMA-VILLA MARIA DEL TRIUNFO</td>\n",
       "      <td>JR TUPAC AMARU Nro.224</td>\n",
       "      <td>LIMA</td>\n",
       "      <td>POINT (-76.932361 -12.175411)</td>\n",
       "    </tr>\n",
       "    <tr>\n",
       "      <td>2</td>\n",
       "      <td>TICONA MAMANI, MELECIO JULIAN</td>\n",
       "      <td>2</td>\n",
       "      <td>3</td>\n",
       "      <td>NaN</td>\n",
       "      <td>NaN</td>\n",
       "      <td>150142</td>\n",
       "      <td>NaN</td>\n",
       "      <td>GRP 8-A SECTOR 6 Mz.C Lt.8                    ...</td>\n",
       "      <td>42</td>\n",
       "      <td>VILLA EL SALVADOR</td>\n",
       "      <td>-76.942572</td>\n",
       "      <td>-12.225661</td>\n",
       "      <td>GRUPO 8A NRO.MZ-C LT-8      SECTOR 6 LIMA-LIMA...</td>\n",
       "      <td>GRP 8-A SECTOR 6 Mz.C Lt.8</td>\n",
       "      <td>LIMA</td>\n",
       "      <td>POINT (-76.942572 -12.225661)</td>\n",
       "    </tr>\n",
       "    <tr>\n",
       "      <td>3</td>\n",
       "      <td>RUIZ GAMBOA, GRACIELA</td>\n",
       "      <td>2</td>\n",
       "      <td>3</td>\n",
       "      <td>NaN</td>\n",
       "      <td>NaN</td>\n",
       "      <td>150142</td>\n",
       "      <td>NaN</td>\n",
       "      <td>AH OASIS SEC 10 GPO 3 Mz.S Lt.24              ...</td>\n",
       "      <td>42</td>\n",
       "      <td>VILLA EL SALVADOR</td>\n",
       "      <td>-76.932987</td>\n",
       "      <td>-12.242253</td>\n",
       "      <td>NaN</td>\n",
       "      <td>NaN</td>\n",
       "      <td>LIMA</td>\n",
       "      <td>POINT (-76.932987 -12.242253)</td>\n",
       "    </tr>\n",
       "    <tr>\n",
       "      <td>4</td>\n",
       "      <td>MARAVI LOPEZ, MOISES</td>\n",
       "      <td>2</td>\n",
       "      <td>3</td>\n",
       "      <td>NaN</td>\n",
       "      <td>NaN</td>\n",
       "      <td>150130</td>\n",
       "      <td>NaN</td>\n",
       "      <td>CA DOMINGUEZ Nro.155                         ...</td>\n",
       "      <td>30</td>\n",
       "      <td>SAN BORJA</td>\n",
       "      <td>-76.993697</td>\n",
       "      <td>-12.087312</td>\n",
       "      <td>NaN</td>\n",
       "      <td>NaN</td>\n",
       "      <td>LIMA</td>\n",
       "      <td>POINT (-76.993697 -12.087312)</td>\n",
       "    </tr>\n",
       "  </tbody>\n",
       "</table>\n",
       "</div>"
      ],
      "text/plain": [
       "                           NOMBCOMP1  ZONADIST  RUTA NOM_GIRO NOM_SUBGIRO  \\\n",
       "0  LANDEO AQUINO, JAQUELIN MARGARITA         2     3      NaN         NaN   \n",
       "1            RIVAS DE AVILA, MARCELA         2     3      NaN         NaN   \n",
       "2      TICONA MAMANI, MELECIO JULIAN         2     3      NaN         NaN   \n",
       "3              RUIZ GAMBOA, GRACIELA         2     3      NaN         NaN   \n",
       "4               MARAVI LOPEZ, MOISES         2     3      NaN         NaN   \n",
       "\n",
       "   ZONAPOSTAL TELEFONO                                          DOMICILIO  \\\n",
       "0      150143      NaN  URB VILLA MARIA T. JR EL CARMEN Nro.301       ...   \n",
       "1      150143  2595098   JR TUPAC AMARU Nro.224                       ...   \n",
       "2      150142      NaN  GRP 8-A SECTOR 6 Mz.C Lt.8                    ...   \n",
       "3      150142      NaN  AH OASIS SEC 10 GPO 3 Mz.S Lt.24              ...   \n",
       "4      150130      NaN   CA DOMINGUEZ Nro.155                         ...   \n",
       "\n",
       "   DISTRITO                  DESCRIP     COORDX     COORDY  \\\n",
       "0        43  VILLA MARIA DEL TRIUNFO -76.950193 -12.163427   \n",
       "1        43  VILLA MARIA DEL TRIUNFO -76.932361 -12.175411   \n",
       "2        42        VILLA EL SALVADOR -76.942572 -12.225661   \n",
       "3        42        VILLA EL SALVADOR -76.932987 -12.242253   \n",
       "4        30                SAN BORJA -76.993697 -12.087312   \n",
       "\n",
       "                                           DIRFISCAL  \\\n",
       "0  JR. EL CARMEN NRO.321        LIMA-LIMA-VILLA M...   \n",
       "1                  LIMA-LIMA-VILLA MARIA DEL TRIUNFO   \n",
       "2  GRUPO 8A NRO.MZ-C LT-8      SECTOR 6 LIMA-LIMA...   \n",
       "3                                                NaN   \n",
       "4                                                NaN   \n",
       "\n",
       "                                DIRENTREGA DESCRIP_DEPA  \\\n",
       "0  URB VILLA MARIA T. JR EL CARMEN Nro.301         LIMA   \n",
       "1                   JR TUPAC AMARU Nro.224         LIMA   \n",
       "2               GRP 8-A SECTOR 6 Mz.C Lt.8         LIMA   \n",
       "3                                      NaN         LIMA   \n",
       "4                                      NaN         LIMA   \n",
       "\n",
       "                        geometry  \n",
       "0  POINT (-76.950193 -12.163427)  \n",
       "1  POINT (-76.932361 -12.175411)  \n",
       "2  POINT (-76.942572 -12.225661)  \n",
       "3  POINT (-76.932987 -12.242253)  \n",
       "4  POINT (-76.993697 -12.087312)  "
      ]
     },
     "execution_count": 15,
     "metadata": {},
     "output_type": "execute_result"
    }
   ],
   "source": [
    "nanostores.head()"
   ]
  },
  {
   "cell_type": "code",
   "execution_count": 16,
   "metadata": {},
   "outputs": [],
   "source": [
    "lima_grid = pd.read_csv('inputs/LIM_ClustersData.csv')"
   ]
  },
  {
   "cell_type": "code",
   "execution_count": 17,
   "metadata": {},
   "outputs": [],
   "source": []
  },
  {
   "cell_type": "code",
   "execution_count": 18,
   "metadata": {},
   "outputs": [
    {
     "data": {
      "text/html": [
       "<div>\n",
       "<style scoped>\n",
       "    .dataframe tbody tr th:only-of-type {\n",
       "        vertical-align: middle;\n",
       "    }\n",
       "\n",
       "    .dataframe tbody tr th {\n",
       "        vertical-align: top;\n",
       "    }\n",
       "\n",
       "    .dataframe thead th {\n",
       "        text-align: right;\n",
       "    }\n",
       "</style>\n",
       "<table border=\"1\" class=\"dataframe\">\n",
       "  <thead>\n",
       "    <tr style=\"text-align: right;\">\n",
       "      <th></th>\n",
       "      <th>index</th>\n",
       "      <th>population</th>\n",
       "      <th>count_intersections</th>\n",
       "      <th>streets_per_node_avg</th>\n",
       "      <th>betweenness_centrality_avg</th>\n",
       "      <th>primary_length_total_ext</th>\n",
       "      <th>highway_length_total_ext</th>\n",
       "      <th>fraction_oneway_ext</th>\n",
       "      <th>N_BFA</th>\n",
       "      <th>N_OtherServices</th>\n",
       "      <th>...</th>\n",
       "      <th>Prin6</th>\n",
       "      <th>Prin7</th>\n",
       "      <th>kopt+0_Clusters</th>\n",
       "      <th>kopt+1_Clusters</th>\n",
       "      <th>kopt+2_Clusters</th>\n",
       "      <th>lat</th>\n",
       "      <th>lon</th>\n",
       "      <th>utm_n</th>\n",
       "      <th>utm_e</th>\n",
       "      <th>geometry</th>\n",
       "    </tr>\n",
       "  </thead>\n",
       "  <tbody>\n",
       "    <tr>\n",
       "      <td>0</td>\n",
       "      <td>117</td>\n",
       "      <td>1461</td>\n",
       "      <td>114</td>\n",
       "      <td>3.041322</td>\n",
       "      <td>0.059484</td>\n",
       "      <td>0.0</td>\n",
       "      <td>0.0</td>\n",
       "      <td>0.164404</td>\n",
       "      <td>24</td>\n",
       "      <td>4</td>\n",
       "      <td>...</td>\n",
       "      <td>1.818972</td>\n",
       "      <td>-0.103226</td>\n",
       "      <td>4</td>\n",
       "      <td>0</td>\n",
       "      <td>0</td>\n",
       "      <td>-12.330026</td>\n",
       "      <td>-76.826524</td>\n",
       "      <td>8636276.063</td>\n",
       "      <td>301380.8033</td>\n",
       "      <td>POINT (-76.82652389 -12.33002618)</td>\n",
       "    </tr>\n",
       "  </tbody>\n",
       "</table>\n",
       "<p>1 rows × 33 columns</p>\n",
       "</div>"
      ],
      "text/plain": [
       "   index  population  count_intersections  streets_per_node_avg  \\\n",
       "0    117        1461                  114              3.041322   \n",
       "\n",
       "   betweenness_centrality_avg  primary_length_total_ext  \\\n",
       "0                    0.059484                       0.0   \n",
       "\n",
       "   highway_length_total_ext  fraction_oneway_ext  N_BFA  N_OtherServices  ...  \\\n",
       "0                       0.0             0.164404     24                4  ...   \n",
       "\n",
       "      Prin6     Prin7  kopt+0_Clusters  kopt+1_Clusters  kopt+2_Clusters  \\\n",
       "0  1.818972 -0.103226                4                0                0   \n",
       "\n",
       "         lat        lon        utm_n        utm_e  \\\n",
       "0 -12.330026 -76.826524  8636276.063  301380.8033   \n",
       "\n",
       "                            geometry  \n",
       "0  POINT (-76.82652389 -12.33002618)  \n",
       "\n",
       "[1 rows x 33 columns]"
      ]
     },
     "execution_count": 18,
     "metadata": {},
     "output_type": "execute_result"
    }
   ],
   "source": [
    "lima_grid.head(1)"
   ]
  },
  {
   "cell_type": "code",
   "execution_count": 19,
   "metadata": {},
   "outputs": [
    {
     "data": {
      "text/plain": [
       "<matplotlib.axes._subplots.AxesSubplot at 0x11ffdb400>"
      ]
     },
     "execution_count": 19,
     "metadata": {},
     "output_type": "execute_result"
    },
    {
     "data": {
      "image/png": "[encoded data removed]",
      "text/plain": [
       "<Figure size 432x288 with 1 Axes>"
      ]
     },
     "metadata": {
      "needs_background": "light"
     },
     "output_type": "display_data"
    }
   ],
   "source": [
    "lima_grid.plot()"
   ]
  },
  {
   "cell_type": "code",
   "execution_count": 20,
   "metadata": {},
   "outputs": [],
   "source": [
    "# Coordinate system\n",
    "proj_utm = {'datum': 'WGS84', 'ellps': 'WGS84', 'proj': 'utm', 'zone': 18, 'units': 'm'}"
   ]
  },
  {
   "cell_type": "code",
   "execution_count": 21,
   "metadata": {},
   "outputs": [],
   "source": [
    "import osmnx as ox"
   ]
  },
  {
   "cell_type": "code",
   "execution_count": 22,
   "metadata": {},
   "outputs": [],
   "source": [
    "lima_grid_proj = lima_grid.to_crs(proj_utm)"
   ]
  },
  {
   "cell_type": "code",
   "execution_count": 23,
   "metadata": {},
   "outputs": [
    {
     "data": {
      "text/plain": [
       "<matplotlib.axes._subplots.AxesSubplot at 0x121a45860>"
      ]
     },
     "execution_count": 23,
     "metadata": {},
     "output_type": "execute_result"
    },
    {
     "data": {
      "image/png": "[encoded data removed]",
      "text/plain": [
       "<Figure size 432x288 with 1 Axes>"
      ]
     },
     "metadata": {
      "needs_background": "light"
     },
     "output_type": "display_data"
    }
   ],
   "source": [
    "\n",
    "buffer.plot()"
   ]
  },
  {
   "cell_type": "code",
   "execution_count": 24,
   "metadata": {},
   "outputs": [
    {
     "data": {
      "text/plain": [
       "<matplotlib.axes._subplots.AxesSubplot at 0x121a95358>"
      ]
     },
     "execution_count": 24,
     "metadata": {},
     "output_type": "execute_result"
    },
    {
     "data": {
      "image/png": "[encoded data removed]",
      "text/plain": [
       "<Figure size 432x288 with 1 Axes>"
      ]
     },
     "metadata": {
      "needs_background": "light"
     },
     "output_type": "display_data"
    }
   ],
   "source": [
    "\n",
    "envelope.plot()"
   ]
  },
  {
   "cell_type": "code",
   "execution_count": 25,
   "metadata": {},
   "outputs": [],
   "source": [
    "test_g = nanostores.iloc[:10,:]"
   ]
  },
  {
   "cell_type": "code",
   "execution_count": 26,
   "metadata": {},
   "outputs": [
    {
     "data": {
      "text/plain": [
       "{'init': 'epsg:4326'}"
      ]
     },
     "execution_count": 26,
     "metadata": {},
     "output_type": "execute_result"
    }
   ],
   "source": [
    "nanostores.crs"
   ]
  },
  {
   "cell_type": "code",
   "execution_count": 27,
   "metadata": {},
   "outputs": [],
   "source": [
    "nanostores_proj = nanostores.to_crs(proj_utm)"
   ]
  },
  {
   "cell_type": "code",
   "execution_count": 28,
   "metadata": {},
   "outputs": [],
   "source": [
    "test_r = gpd.GeoDataFrame(crs=proj_utm, geometry=envelope)"
   ]
  },
  {
   "cell_type": "code",
   "execution_count": 29,
   "metadata": {},
   "outputs": [],
   "source": [
    "gdf_sjoin = gpd.sjoin(left_df=nanostores_proj, right_df=test_r, how='left', op='within')"
   ]
  },
  {
   "cell_type": "code",
   "execution_count": 30,
   "metadata": {},
   "outputs": [],
   "source": [
    "ns_count = gdf_sjoin.groupby(by='index_right').count()"
   ]
  },
  {
   "cell_type": "code",
   "execution_count": 31,
   "metadata": {},
   "outputs": [],
   "source": [
    "lima_grid['nanostore_count'] = np.zeros(shape=len(lima_grid))"
   ]
  },
  {
   "cell_type": "code",
   "execution_count": 32,
   "metadata": {},
   "outputs": [],
   "source": [
    "lima_grid.loc[ns_count.index,'nanostore_count'] = ns_count.iloc[:,0].values"
   ]
  },
  {
   "cell_type": "code",
   "execution_count": 33,
   "metadata": {},
   "outputs": [
    {
     "data": {
      "text/plain": [
       "<matplotlib.axes._subplots.AxesSubplot at 0x1230d5a20>"
      ]
     },
     "execution_count": 33,
     "metadata": {},
     "output_type": "execute_result"
    },
    {
     "data": {
      "image/png": "[encoded data removed]",
      "text/plain": [
       "<Figure size 432x288 with 1 Axes>"
      ]
     },
     "metadata": {
      "needs_background": "light"
     },
     "output_type": "display_data"
    }
   ],
   "source": [
    "lima_grid.plot(column='nanostore_count')"
   ]
  },
  {
   "cell_type": "code",
   "execution_count": 34,
   "metadata": {},
   "outputs": [],
   "source": [
    "lima_grid['grid_geometry'] = envelope"
   ]
  },
  {
   "cell_type": "code",
   "execution_count": 35,
   "metadata": {},
   "outputs": [],
   "source": [
    "grid_ns_count = gpd.GeoDataFrame(data=ns_count.iloc[:,0].values,\n",
    "                 crs=proj_utm,\n",
    "                 geometry=envelope)"
   ]
  },
  {
   "cell_type": "code",
   "execution_count": 36,
   "metadata": {},
   "outputs": [],
   "source": [
    "lima_grid.to_csv('outputs/lima_grid_c_nscount.csv')"
   ]
  },
  {
   "cell_type": "code",
   "execution_count": 111,
   "metadata": {},
   "outputs": [
    {
     "name": "stderr",
     "output_type": "stream",
     "text": [
      "/Users/cortega/Documents/food_deserts/food_deserts_env/lib/python3.6/site-packages/geopandas/tools/sjoin.py:44: UserWarning: CRS of frames being joined does not match!\n",
      "  warn('CRS of frames being joined does not match!')\n"
     ]
    }
   ],
   "source": [
    "gdf_sjoin = gpd.sjoin(left_df=city_blocks, right_df=test_r, how='left', op='within')"
   ]
  },
  {
   "cell_type": "code",
   "execution_count": 114,
   "metadata": {},
   "outputs": [],
   "source": [
    "city_blocks_proj = city_blocks.to_crs(proj_utm)"
   ]
  },
  {
   "cell_type": "code",
   "execution_count": null,
   "metadata": {},
   "outputs": [],
   "source": []
  },
  {
   "cell_type": "markdown",
   "metadata": {},
   "source": [
    "# Results\n",
    "Show graphs and stats here"
   ]
  },
  {
   "cell_type": "markdown",
   "metadata": {},
   "source": [
    "# Conclusions and Next Steps\n",
    "Summarize findings here"
   ]
  },
  {
   "cell_type": "code",
   "execution_count": null,
   "metadata": {},
   "outputs": [],
   "source": []
  }
 ],
 "metadata": {
  "kernelspec": {
   "display_name": "Python 3 (fd_env)",
   "language": "python",
   "name": "fd_env"
  },
  "language_info": {
   "codemirror_mode": {
    "name": "ipython",
    "version": 3
   },
   "file_extension": ".py",
   "mimetype": "text/x-python",
   "name": "python",
   "nbconvert_exporter": "python",
   "pygments_lexer": "ipython3",
   "version": "3.7.3"
  }
 },
 "nbformat": 4,
 "nbformat_minor": 2
}
