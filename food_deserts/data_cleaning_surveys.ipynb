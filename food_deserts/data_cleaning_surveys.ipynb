{
 "cells": [
  {
   "cell_type": "code",
   "execution_count": null,
   "metadata": {},
   "outputs": [],
   "source": []
  },
  {
   "cell_type": "markdown",
   "metadata": {
    "colab_type": "text",
    "id": "Rechy2ilgAU7"
   },
   "source": [
    "# 1 Introduction\n",
    "\n",
    "This notebook purpose is to obtain a clean surveys dataset and to do exploratory data analysis on it (basic statistics and visualizations )."
   ]
  },
  {
   "cell_type": "markdown",
   "metadata": {
    "colab_type": "text",
    "id": "Bte6s6EjgxVx"
   },
   "source": [
    "## 1.1 Imports and Notebook Setup"
   ]
  },
  {
   "cell_type": "code",
   "execution_count": 1,
   "metadata": {
    "colab": {
     "base_uri": "https://localhost:8080/",
     "height": 496
    },
    "colab_type": "code",
    "executionInfo": {
     "elapsed": 35587,
     "status": "ok",
     "timestamp": 1566413474746,
     "user": {
      "displayName": "Claudio Ortega",
      "photoUrl": "https://lh3.googleusercontent.com/a-/AAuE7mDMuWQq8N1uw7_WyqzizC78O73JaYC43110fMi2_eo=s64",
      "userId": "00901385359935554087"
     },
     "user_tz": 300
    },
    "id": "wapUyCYAICro",
    "outputId": "c445d011-bd15-4f4e-f0da-b0d41ca43d47"
   },
   "outputs": [],
   "source": [
    "import descartes\n",
    "import shapely\n",
    "import os\n",
    "import pandas_profiling\n",
    "import time\n",
    "import warnings\n",
    "import geopandas as gpd\n",
    "import matplotlib.pyplot as plt\n",
    "import numpy as np\n",
    "import seaborn as sns\n",
    "import osmnx as ox\n",
    "import pandas as pd\n",
    "import mplleaflet as leaflet\n",
    "from scipy.spatial import KDTree\n",
    "from shapely.geometry import Point\n",
    "from matplotlib import style\n",
    "from matplotlib.ticker import PercentFormatter"
   ]
  },
  {
   "cell_type": "code",
   "execution_count": 2,
   "metadata": {
    "colab": {},
    "colab_type": "code",
    "id": "2XJVMJjezpk4"
   },
   "outputs": [],
   "source": [
    "warnings.filterwarnings('ignore')\n",
    "\n",
    "sns.set(style=\"dark\")\n",
    "\n",
    "%matplotlib inline"
   ]
  },
  {
   "cell_type": "markdown",
   "metadata": {
    "colab_type": "text",
    "id": "_-jaoM-Jiqtr"
   },
   "source": [
    "# 2 Data pre-procesing\n",
    "\n",
    "This section contains loading of data, concatenation of similar tables and data type integration."
   ]
  },
  {
   "cell_type": "markdown",
   "metadata": {
    "colab_type": "text",
    "id": "lbmDyKoI5cuL"
   },
   "source": [
    "## 2.1 Load datasets"
   ]
  },
  {
   "cell_type": "markdown",
   "metadata": {
    "colab_type": "text",
    "id": "alI0VKaaf8Nz"
   },
   "source": [
    "### 2.1.1 Manually completed surveys"
   ]
  },
  {
   "cell_type": "code",
   "execution_count": 3,
   "metadata": {
    "colab": {},
    "colab_type": "code",
    "id": "1PL6GAYqU3MX"
   },
   "outputs": [],
   "source": [
    "def get_completed_surveys(df):\n",
    "    '''\n",
    "    Extracts all rows of a DataFrame that have less NaN proportion\n",
    "    than the maximun NaN proportion in that DataFrame\n",
    "    \n",
    "    Parameters:\n",
    "    -----------\n",
    "    df: Pandas DataFrame.\n",
    "    \n",
    "    Return:\n",
    "    -------\n",
    "    filtered_rows: Pandas DataFrame with filtered rows. \n",
    "    '''\n",
    "    row_na_count = df.isna().sum(axis=1)\n",
    "    row_na_prop = row_na_count / df.shape[1]\n",
    "    completed_filters = row_na_prop.unique().max()\n",
    "    filtered_rows = df[row_na_prop < completed_filters]\n",
    "    \n",
    "    return filtered_rows"
   ]
  },
  {
   "cell_type": "code",
   "execution_count": 4,
   "metadata": {
    "colab": {},
    "colab_type": "code",
    "id": "N_SVbcJMUxbs"
   },
   "outputs": [],
   "source": [
    "inputdir = \"inputs/manually_collected_surveys/\"\n",
    "\n",
    "complete_surveys_list = []\n",
    "\n",
    "for file in os.listdir(inputdir):\n",
    "    survey = pd.read_csv(inputdir+file)\n",
    "    complete_survey = get_completed_surveys(df=survey)\n",
    "    complete_surveys_list.append(complete_survey)\n",
    "\n",
    "complete_surveys = pd.concat(complete_surveys_list, ignore_index=True)\n",
    "geom = complete_surveys.apply(lambda x: shapely.geometry.Point(x[\"COORDX\"], x[\"COORDY\"]), axis=1)\n",
    "geo_complete_survey = gpd.GeoDataFrame(complete_surveys, geometry=geom, crs={'init':'epsg:4326'})"
   ]
  },
  {
   "cell_type": "code",
   "execution_count": 5,
   "metadata": {
    "colab": {},
    "colab_type": "code",
    "id": "NmkkUpuxRydl"
   },
   "outputs": [],
   "source": [
    "# # Project to UTM\n",
    "# geo_complete_survey_proj = ox.projection.project_gdf(geo_complete_survey, to_crs={'init':'epsg:32718'})"
   ]
  },
  {
   "cell_type": "markdown",
   "metadata": {
    "colab_type": "text",
    "id": "J0rxnTe5fOIu"
   },
   "source": [
    "### 2.1.2 Load fulcrum surveys "
   ]
  },
  {
   "cell_type": "code",
   "execution_count": 6,
   "metadata": {
    "colab": {},
    "colab_type": "code",
    "id": "-HyAgDntQiMy"
   },
   "outputs": [],
   "source": [
    "# Surveys from SIG 2019-1 \n",
    "data_dir = 'inputs/fulcrum_surveys/students/'\n",
    "surveys = []\n",
    "\n",
    "for file in os.listdir(data_dir):\n",
    "    surveys.append(pd.read_csv(data_dir+file))\n",
    "\n",
    "df_surveys = pd.concat(surveys, ignore_index=True)\n",
    "geosurveys = gpd.GeoDataFrame(\n",
    "    df_surveys.drop(axis=1, labels='geometry'),\n",
    "    geometry=df_surveys.apply(\n",
    "        func=lambda x: shapely.geometry.Point(x['longitude'], x['latitude']),\n",
    "        axis=1\n",
    "    ),\n",
    "    crs = {'init':'epsg:4236'}\n",
    ")\n",
    "geosurveys = geosurveys[surveys[0].columns.values.tolist()]"
   ]
  },
  {
   "cell_type": "code",
   "execution_count": 7,
   "metadata": {
    "colab": {},
    "colab_type": "code",
    "id": "fSMYhKikuth5"
   },
   "outputs": [
    {
     "ename": "KeyError",
     "evalue": "\"['changeset_id', 'change_type'] not in index\"",
     "output_type": "error",
     "traceback": [
      "\u001b[0;31m---------------------------------------------------------------------------\u001b[0m",
      "\u001b[0;31mKeyError\u001b[0m                                  Traceback (most recent call last)",
      "\u001b[0;32m<ipython-input-7-f466ca4bc8ff>\u001b[0m in \u001b[0;36m<module>\u001b[0;34m\u001b[0m\n\u001b[1;32m      9\u001b[0m     \u001b[0mcrs\u001b[0m \u001b[0;34m=\u001b[0m \u001b[0;34m{\u001b[0m\u001b[0;34m'init'\u001b[0m\u001b[0;34m:\u001b[0m\u001b[0;34m'epsg:4236'\u001b[0m\u001b[0;34m}\u001b[0m\u001b[0;34m\u001b[0m\u001b[0;34m\u001b[0m\u001b[0m\n\u001b[1;32m     10\u001b[0m )\n\u001b[0;32m---> 11\u001b[0;31m \u001b[0mfulcrum_geodata\u001b[0m \u001b[0;34m=\u001b[0m \u001b[0mfulcrum_geodata\u001b[0m\u001b[0;34m[\u001b[0m\u001b[0mgeosurveys\u001b[0m\u001b[0;34m.\u001b[0m\u001b[0mcolumns\u001b[0m\u001b[0;34m]\u001b[0m\u001b[0;34m\u001b[0m\u001b[0;34m\u001b[0m\u001b[0m\n\u001b[0m",
      "\u001b[0;32m~/anaconda3/lib/python3.7/site-packages/geopandas/geodataframe.py\u001b[0m in \u001b[0;36m__getitem__\u001b[0;34m(self, key)\u001b[0m\n\u001b[1;32m    544\u001b[0m         \u001b[0mGeoDataFrame\u001b[0m\u001b[0;34m.\u001b[0m\u001b[0;34m\u001b[0m\u001b[0;34m\u001b[0m\u001b[0m\n\u001b[1;32m    545\u001b[0m         \"\"\"\n\u001b[0;32m--> 546\u001b[0;31m         \u001b[0mresult\u001b[0m \u001b[0;34m=\u001b[0m \u001b[0msuper\u001b[0m\u001b[0;34m(\u001b[0m\u001b[0mGeoDataFrame\u001b[0m\u001b[0;34m,\u001b[0m \u001b[0mself\u001b[0m\u001b[0;34m)\u001b[0m\u001b[0;34m.\u001b[0m\u001b[0m__getitem__\u001b[0m\u001b[0;34m(\u001b[0m\u001b[0mkey\u001b[0m\u001b[0;34m)\u001b[0m\u001b[0;34m\u001b[0m\u001b[0;34m\u001b[0m\u001b[0m\n\u001b[0m\u001b[1;32m    547\u001b[0m         \u001b[0mgeo_col\u001b[0m \u001b[0;34m=\u001b[0m \u001b[0mself\u001b[0m\u001b[0;34m.\u001b[0m\u001b[0m_geometry_column_name\u001b[0m\u001b[0;34m\u001b[0m\u001b[0;34m\u001b[0m\u001b[0m\n\u001b[1;32m    548\u001b[0m         \u001b[0;32mif\u001b[0m \u001b[0misinstance\u001b[0m\u001b[0;34m(\u001b[0m\u001b[0mkey\u001b[0m\u001b[0;34m,\u001b[0m \u001b[0mstring_types\u001b[0m\u001b[0;34m)\u001b[0m \u001b[0;32mand\u001b[0m \u001b[0mkey\u001b[0m \u001b[0;34m==\u001b[0m \u001b[0mgeo_col\u001b[0m\u001b[0;34m:\u001b[0m\u001b[0;34m\u001b[0m\u001b[0;34m\u001b[0m\u001b[0m\n",
      "\u001b[0;32m~/anaconda3/lib/python3.7/site-packages/pandas/core/frame.py\u001b[0m in \u001b[0;36m__getitem__\u001b[0;34m(self, key)\u001b[0m\n\u001b[1;32m   2999\u001b[0m             \u001b[0;32mif\u001b[0m \u001b[0mis_iterator\u001b[0m\u001b[0;34m(\u001b[0m\u001b[0mkey\u001b[0m\u001b[0;34m)\u001b[0m\u001b[0;34m:\u001b[0m\u001b[0;34m\u001b[0m\u001b[0;34m\u001b[0m\u001b[0m\n\u001b[1;32m   3000\u001b[0m                 \u001b[0mkey\u001b[0m \u001b[0;34m=\u001b[0m \u001b[0mlist\u001b[0m\u001b[0;34m(\u001b[0m\u001b[0mkey\u001b[0m\u001b[0;34m)\u001b[0m\u001b[0;34m\u001b[0m\u001b[0;34m\u001b[0m\u001b[0m\n\u001b[0;32m-> 3001\u001b[0;31m             \u001b[0mindexer\u001b[0m \u001b[0;34m=\u001b[0m \u001b[0mself\u001b[0m\u001b[0;34m.\u001b[0m\u001b[0mloc\u001b[0m\u001b[0;34m.\u001b[0m\u001b[0m_convert_to_indexer\u001b[0m\u001b[0;34m(\u001b[0m\u001b[0mkey\u001b[0m\u001b[0;34m,\u001b[0m \u001b[0maxis\u001b[0m\u001b[0;34m=\u001b[0m\u001b[0;36m1\u001b[0m\u001b[0;34m,\u001b[0m \u001b[0mraise_missing\u001b[0m\u001b[0;34m=\u001b[0m\u001b[0;32mTrue\u001b[0m\u001b[0;34m)\u001b[0m\u001b[0;34m\u001b[0m\u001b[0;34m\u001b[0m\u001b[0m\n\u001b[0m\u001b[1;32m   3002\u001b[0m \u001b[0;34m\u001b[0m\u001b[0m\n\u001b[1;32m   3003\u001b[0m         \u001b[0;31m# take() does not accept boolean indexers\u001b[0m\u001b[0;34m\u001b[0m\u001b[0;34m\u001b[0m\u001b[0;34m\u001b[0m\u001b[0m\n",
      "\u001b[0;32m~/anaconda3/lib/python3.7/site-packages/pandas/core/indexing.py\u001b[0m in \u001b[0;36m_convert_to_indexer\u001b[0;34m(self, obj, axis, is_setter, raise_missing)\u001b[0m\n\u001b[1;32m   1283\u001b[0m                 \u001b[0;31m# When setting, missing keys are not allowed, even with .loc:\u001b[0m\u001b[0;34m\u001b[0m\u001b[0;34m\u001b[0m\u001b[0;34m\u001b[0m\u001b[0m\n\u001b[1;32m   1284\u001b[0m                 \u001b[0mkwargs\u001b[0m \u001b[0;34m=\u001b[0m \u001b[0;34m{\u001b[0m\u001b[0;34m\"raise_missing\"\u001b[0m\u001b[0;34m:\u001b[0m \u001b[0;32mTrue\u001b[0m \u001b[0;32mif\u001b[0m \u001b[0mis_setter\u001b[0m \u001b[0;32melse\u001b[0m \u001b[0mraise_missing\u001b[0m\u001b[0;34m}\u001b[0m\u001b[0;34m\u001b[0m\u001b[0;34m\u001b[0m\u001b[0m\n\u001b[0;32m-> 1285\u001b[0;31m                 \u001b[0;32mreturn\u001b[0m \u001b[0mself\u001b[0m\u001b[0;34m.\u001b[0m\u001b[0m_get_listlike_indexer\u001b[0m\u001b[0;34m(\u001b[0m\u001b[0mobj\u001b[0m\u001b[0;34m,\u001b[0m \u001b[0maxis\u001b[0m\u001b[0;34m,\u001b[0m \u001b[0;34m**\u001b[0m\u001b[0mkwargs\u001b[0m\u001b[0;34m)\u001b[0m\u001b[0;34m[\u001b[0m\u001b[0;36m1\u001b[0m\u001b[0;34m]\u001b[0m\u001b[0;34m\u001b[0m\u001b[0;34m\u001b[0m\u001b[0m\n\u001b[0m\u001b[1;32m   1286\u001b[0m         \u001b[0;32melse\u001b[0m\u001b[0;34m:\u001b[0m\u001b[0;34m\u001b[0m\u001b[0;34m\u001b[0m\u001b[0m\n\u001b[1;32m   1287\u001b[0m             \u001b[0;32mtry\u001b[0m\u001b[0;34m:\u001b[0m\u001b[0;34m\u001b[0m\u001b[0;34m\u001b[0m\u001b[0m\n",
      "\u001b[0;32m~/anaconda3/lib/python3.7/site-packages/pandas/core/indexing.py\u001b[0m in \u001b[0;36m_get_listlike_indexer\u001b[0;34m(self, key, axis, raise_missing)\u001b[0m\n\u001b[1;32m   1090\u001b[0m \u001b[0;34m\u001b[0m\u001b[0m\n\u001b[1;32m   1091\u001b[0m         self._validate_read_indexer(\n\u001b[0;32m-> 1092\u001b[0;31m             \u001b[0mkeyarr\u001b[0m\u001b[0;34m,\u001b[0m \u001b[0mindexer\u001b[0m\u001b[0;34m,\u001b[0m \u001b[0mo\u001b[0m\u001b[0;34m.\u001b[0m\u001b[0m_get_axis_number\u001b[0m\u001b[0;34m(\u001b[0m\u001b[0maxis\u001b[0m\u001b[0;34m)\u001b[0m\u001b[0;34m,\u001b[0m \u001b[0mraise_missing\u001b[0m\u001b[0;34m=\u001b[0m\u001b[0mraise_missing\u001b[0m\u001b[0;34m\u001b[0m\u001b[0;34m\u001b[0m\u001b[0m\n\u001b[0m\u001b[1;32m   1093\u001b[0m         )\n\u001b[1;32m   1094\u001b[0m         \u001b[0;32mreturn\u001b[0m \u001b[0mkeyarr\u001b[0m\u001b[0;34m,\u001b[0m \u001b[0mindexer\u001b[0m\u001b[0;34m\u001b[0m\u001b[0;34m\u001b[0m\u001b[0m\n",
      "\u001b[0;32m~/anaconda3/lib/python3.7/site-packages/pandas/core/indexing.py\u001b[0m in \u001b[0;36m_validate_read_indexer\u001b[0;34m(self, key, indexer, axis, raise_missing)\u001b[0m\n\u001b[1;32m   1183\u001b[0m             \u001b[0;32mif\u001b[0m \u001b[0;32mnot\u001b[0m \u001b[0;34m(\u001b[0m\u001b[0mself\u001b[0m\u001b[0;34m.\u001b[0m\u001b[0mname\u001b[0m \u001b[0;34m==\u001b[0m \u001b[0;34m\"loc\"\u001b[0m \u001b[0;32mand\u001b[0m \u001b[0;32mnot\u001b[0m \u001b[0mraise_missing\u001b[0m\u001b[0;34m)\u001b[0m\u001b[0;34m:\u001b[0m\u001b[0;34m\u001b[0m\u001b[0;34m\u001b[0m\u001b[0m\n\u001b[1;32m   1184\u001b[0m                 \u001b[0mnot_found\u001b[0m \u001b[0;34m=\u001b[0m \u001b[0mlist\u001b[0m\u001b[0;34m(\u001b[0m\u001b[0mset\u001b[0m\u001b[0;34m(\u001b[0m\u001b[0mkey\u001b[0m\u001b[0;34m)\u001b[0m \u001b[0;34m-\u001b[0m \u001b[0mset\u001b[0m\u001b[0;34m(\u001b[0m\u001b[0max\u001b[0m\u001b[0;34m)\u001b[0m\u001b[0;34m)\u001b[0m\u001b[0;34m\u001b[0m\u001b[0;34m\u001b[0m\u001b[0m\n\u001b[0;32m-> 1185\u001b[0;31m                 \u001b[0;32mraise\u001b[0m \u001b[0mKeyError\u001b[0m\u001b[0;34m(\u001b[0m\u001b[0;34m\"{} not in index\"\u001b[0m\u001b[0;34m.\u001b[0m\u001b[0mformat\u001b[0m\u001b[0;34m(\u001b[0m\u001b[0mnot_found\u001b[0m\u001b[0;34m)\u001b[0m\u001b[0;34m)\u001b[0m\u001b[0;34m\u001b[0m\u001b[0;34m\u001b[0m\u001b[0m\n\u001b[0m\u001b[1;32m   1186\u001b[0m \u001b[0;34m\u001b[0m\u001b[0m\n\u001b[1;32m   1187\u001b[0m             \u001b[0;31m# we skip the warning on Categorical/Interval\u001b[0m\u001b[0;34m\u001b[0m\u001b[0;34m\u001b[0m\u001b[0;34m\u001b[0m\u001b[0m\n",
      "\u001b[0;31mKeyError\u001b[0m: \"['changeset_id', 'change_type'] not in index\""
     ]
    }
   ],
   "source": [
    "# Surveys from feb-2018\n",
    "fulcrum_data = pd.read_csv('inputs/fulcrum_surveys/nanostore_survey_food_deserts_id.csv')\n",
    "fulcrum_geodata = gpd.GeoDataFrame(\n",
    "    fulcrum_data.drop(axis=1, labels='geometry'),\n",
    "    geometry=fulcrum_data.apply(\n",
    "        func=lambda x: shapely.geometry.Point(x['longitude'], x['latitude']),\n",
    "        axis=1\n",
    "    ),\n",
    "    crs = {'init':'epsg:4236'}\n",
    ")\n",
    "fulcrum_geodata = fulcrum_geodata[geosurveys.columns]"
   ]
  },
  {
   "cell_type": "code",
   "execution_count": 8,
   "metadata": {
    "colab": {},
    "colab_type": "code",
    "id": "RbUQt5P6uwBU"
   },
   "outputs": [],
   "source": [
    "# concat surveys\n",
    "geosurveys = pd.concat([geosurveys, fulcrum_geodata], ignore_index=True)"
   ]
  },
  {
   "cell_type": "code",
   "execution_count": 9,
   "metadata": {
    "colab": {},
    "colab_type": "code",
    "id": "q7FBpp77SuEE"
   },
   "outputs": [],
   "source": [
    "# # Project to UTM\n",
    "# geosurveys_proj = ox.projection.project_gdf(geosurveys, to_crs={'init':'epsg:32718'}) "
   ]
  },
  {
   "cell_type": "code",
   "execution_count": 10,
   "metadata": {
    "colab": {},
    "colab_type": "code",
    "id": "dtt3PajIsFxU"
   },
   "outputs": [
    {
     "data": {
      "text/html": [
       "<div>\n",
       "<style scoped>\n",
       "    .dataframe tbody tr th:only-of-type {\n",
       "        vertical-align: middle;\n",
       "    }\n",
       "\n",
       "    .dataframe tbody tr th {\n",
       "        vertical-align: top;\n",
       "    }\n",
       "\n",
       "    .dataframe thead th {\n",
       "        text-align: right;\n",
       "    }\n",
       "</style>\n",
       "<table border=\"1\" class=\"dataframe\">\n",
       "  <thead>\n",
       "    <tr style=\"text-align: right;\">\n",
       "      <th></th>\n",
       "      <th>abre_fin_de_semana</th>\n",
       "      <th>assigned_to</th>\n",
       "      <th>cadena_frio</th>\n",
       "      <th>cant_carga</th>\n",
       "      <th>cant_merma</th>\n",
       "      <th>cant_sku</th>\n",
       "      <th>change_type</th>\n",
       "      <th>changeset_id</th>\n",
       "      <th>created_at</th>\n",
       "      <th>created_by</th>\n",
       "      <th>...</th>\n",
       "      <th>superficie_bodega</th>\n",
       "      <th>system_created_at</th>\n",
       "      <th>system_updated_at</th>\n",
       "      <th>updated_at</th>\n",
       "      <th>updated_by</th>\n",
       "      <th>vehiculo_recojo</th>\n",
       "      <th>vehiculo_recojo_other</th>\n",
       "      <th>venta_frutas</th>\n",
       "      <th>venta_verduras</th>\n",
       "      <th>version</th>\n",
       "    </tr>\n",
       "  </thead>\n",
       "  <tbody>\n",
       "    <tr>\n",
       "      <th>0</th>\n",
       "      <td>yes</td>\n",
       "      <td>NaN</td>\n",
       "      <td>NaN</td>\n",
       "      <td>NaN</td>\n",
       "      <td>NaN</td>\n",
       "      <td>NaN</td>\n",
       "      <td>create</td>\n",
       "      <td>772f7577-792a-4d6e-a9b6-9183905f7e7c</td>\n",
       "      <td>2019-06-15 16:12:06 UTC</td>\n",
       "      <td>k.aspillagav@alum.up.edu.pe</td>\n",
       "      <td>...</td>\n",
       "      <td>NaN</td>\n",
       "      <td>2019-06-15 16:14:44 UTC</td>\n",
       "      <td>2019-06-15 16:14:44 UTC</td>\n",
       "      <td>2019-06-15 16:14:41 UTC</td>\n",
       "      <td>k.aspillagav@alum.up.edu.pe</td>\n",
       "      <td>NaN</td>\n",
       "      <td>NaN</td>\n",
       "      <td>0</td>\n",
       "      <td>0</td>\n",
       "      <td>1</td>\n",
       "    </tr>\n",
       "    <tr>\n",
       "      <th>1</th>\n",
       "      <td>yes</td>\n",
       "      <td>NaN</td>\n",
       "      <td>NaN</td>\n",
       "      <td>NaN</td>\n",
       "      <td>NaN</td>\n",
       "      <td>NaN</td>\n",
       "      <td>update</td>\n",
       "      <td>917f5eef-b851-41c3-961f-400b45aed542</td>\n",
       "      <td>2019-06-15 16:12:06 UTC</td>\n",
       "      <td>k.aspillagav@alum.up.edu.pe</td>\n",
       "      <td>...</td>\n",
       "      <td>NaN</td>\n",
       "      <td>2019-06-15 16:14:44 UTC</td>\n",
       "      <td>2019-06-15 16:15:22 UTC</td>\n",
       "      <td>2019-06-15 16:15:20 UTC</td>\n",
       "      <td>k.aspillagav@alum.up.edu.pe</td>\n",
       "      <td>NaN</td>\n",
       "      <td>NaN</td>\n",
       "      <td>0</td>\n",
       "      <td>0</td>\n",
       "      <td>2</td>\n",
       "    </tr>\n",
       "    <tr>\n",
       "      <th>2</th>\n",
       "      <td>yes</td>\n",
       "      <td>NaN</td>\n",
       "      <td>NaN</td>\n",
       "      <td>NaN</td>\n",
       "      <td>NaN</td>\n",
       "      <td>NaN</td>\n",
       "      <td>update</td>\n",
       "      <td>9796d61f-eee5-4f96-bcd8-92a7129c2d60</td>\n",
       "      <td>2019-06-15 16:12:06 UTC</td>\n",
       "      <td>k.aspillagav@alum.up.edu.pe</td>\n",
       "      <td>...</td>\n",
       "      <td>NaN</td>\n",
       "      <td>2019-06-15 16:14:44 UTC</td>\n",
       "      <td>2019-06-15 16:17:08 UTC</td>\n",
       "      <td>2019-06-15 16:17:06 UTC</td>\n",
       "      <td>k.aspillagav@alum.up.edu.pe</td>\n",
       "      <td>NaN</td>\n",
       "      <td>NaN</td>\n",
       "      <td>0</td>\n",
       "      <td>0</td>\n",
       "      <td>3</td>\n",
       "    </tr>\n",
       "    <tr>\n",
       "      <th>3</th>\n",
       "      <td>yes</td>\n",
       "      <td>NaN</td>\n",
       "      <td>NaN</td>\n",
       "      <td>NaN</td>\n",
       "      <td>NaN</td>\n",
       "      <td>NaN</td>\n",
       "      <td>create</td>\n",
       "      <td>9034bc4b-79bb-4070-99a9-f1f3b876b3a5</td>\n",
       "      <td>2019-06-15 15:30:41 UTC</td>\n",
       "      <td>k.aspillagav@alum.up.edu.pe</td>\n",
       "      <td>...</td>\n",
       "      <td>NaN</td>\n",
       "      <td>2019-06-15 16:17:28 UTC</td>\n",
       "      <td>2019-06-15 16:17:28 UTC</td>\n",
       "      <td>2019-06-15 16:13:57 UTC</td>\n",
       "      <td>k.aspillagav@alum.up.edu.pe</td>\n",
       "      <td>NaN</td>\n",
       "      <td>NaN</td>\n",
       "      <td>0</td>\n",
       "      <td>0</td>\n",
       "      <td>1</td>\n",
       "    </tr>\n",
       "    <tr>\n",
       "      <th>4</th>\n",
       "      <td>yes</td>\n",
       "      <td>NaN</td>\n",
       "      <td>NaN</td>\n",
       "      <td>NaN</td>\n",
       "      <td>NaN</td>\n",
       "      <td>NaN</td>\n",
       "      <td>create</td>\n",
       "      <td>9034bc4b-79bb-4070-99a9-f1f3b876b3a5</td>\n",
       "      <td>2019-06-15 16:14:58 UTC</td>\n",
       "      <td>k.aspillagav@alum.up.edu.pe</td>\n",
       "      <td>...</td>\n",
       "      <td>NaN</td>\n",
       "      <td>2019-06-15 16:17:28 UTC</td>\n",
       "      <td>2019-06-15 16:17:28 UTC</td>\n",
       "      <td>2019-06-15 16:17:11 UTC</td>\n",
       "      <td>k.aspillagav@alum.up.edu.pe</td>\n",
       "      <td>NaN</td>\n",
       "      <td>NaN</td>\n",
       "      <td>0</td>\n",
       "      <td>0</td>\n",
       "      <td>1</td>\n",
       "    </tr>\n",
       "  </tbody>\n",
       "</table>\n",
       "<p>5 rows × 48 columns</p>\n",
       "</div>"
      ],
      "text/plain": [
       "  abre_fin_de_semana  assigned_to  cadena_frio  cant_carga  cant_merma  \\\n",
       "0                yes          NaN          NaN         NaN         NaN   \n",
       "1                yes          NaN          NaN         NaN         NaN   \n",
       "2                yes          NaN          NaN         NaN         NaN   \n",
       "3                yes          NaN          NaN         NaN         NaN   \n",
       "4                yes          NaN          NaN         NaN         NaN   \n",
       "\n",
       "   cant_sku change_type                          changeset_id  \\\n",
       "0       NaN      create  772f7577-792a-4d6e-a9b6-9183905f7e7c   \n",
       "1       NaN      update  917f5eef-b851-41c3-961f-400b45aed542   \n",
       "2       NaN      update  9796d61f-eee5-4f96-bcd8-92a7129c2d60   \n",
       "3       NaN      create  9034bc4b-79bb-4070-99a9-f1f3b876b3a5   \n",
       "4       NaN      create  9034bc4b-79bb-4070-99a9-f1f3b876b3a5   \n",
       "\n",
       "                created_at                   created_by  ...  \\\n",
       "0  2019-06-15 16:12:06 UTC  k.aspillagav@alum.up.edu.pe  ...   \n",
       "1  2019-06-15 16:12:06 UTC  k.aspillagav@alum.up.edu.pe  ...   \n",
       "2  2019-06-15 16:12:06 UTC  k.aspillagav@alum.up.edu.pe  ...   \n",
       "3  2019-06-15 15:30:41 UTC  k.aspillagav@alum.up.edu.pe  ...   \n",
       "4  2019-06-15 16:14:58 UTC  k.aspillagav@alum.up.edu.pe  ...   \n",
       "\n",
       "  superficie_bodega        system_created_at        system_updated_at  \\\n",
       "0               NaN  2019-06-15 16:14:44 UTC  2019-06-15 16:14:44 UTC   \n",
       "1               NaN  2019-06-15 16:14:44 UTC  2019-06-15 16:15:22 UTC   \n",
       "2               NaN  2019-06-15 16:14:44 UTC  2019-06-15 16:17:08 UTC   \n",
       "3               NaN  2019-06-15 16:17:28 UTC  2019-06-15 16:17:28 UTC   \n",
       "4               NaN  2019-06-15 16:17:28 UTC  2019-06-15 16:17:28 UTC   \n",
       "\n",
       "                updated_at                   updated_by  vehiculo_recojo  \\\n",
       "0  2019-06-15 16:14:41 UTC  k.aspillagav@alum.up.edu.pe              NaN   \n",
       "1  2019-06-15 16:15:20 UTC  k.aspillagav@alum.up.edu.pe              NaN   \n",
       "2  2019-06-15 16:17:06 UTC  k.aspillagav@alum.up.edu.pe              NaN   \n",
       "3  2019-06-15 16:13:57 UTC  k.aspillagav@alum.up.edu.pe              NaN   \n",
       "4  2019-06-15 16:17:11 UTC  k.aspillagav@alum.up.edu.pe              NaN   \n",
       "\n",
       "   vehiculo_recojo_other venta_frutas venta_verduras version  \n",
       "0                    NaN            0              0       1  \n",
       "1                    NaN            0              0       2  \n",
       "2                    NaN            0              0       3  \n",
       "3                    NaN            0              0       1  \n",
       "4                    NaN            0              0       1  \n",
       "\n",
       "[5 rows x 48 columns]"
      ]
     },
     "execution_count": 10,
     "metadata": {},
     "output_type": "execute_result"
    }
   ],
   "source": [
    "geosurveys.head()"
   ]
  },
  {
   "cell_type": "code",
   "execution_count": 11,
   "metadata": {
    "colab": {},
    "colab_type": "code",
    "id": "1bPAWRA4CmP7"
   },
   "outputs": [
    {
     "data": {
      "text/plain": [
       "(604, 48)"
      ]
     },
     "execution_count": 11,
     "metadata": {},
     "output_type": "execute_result"
    }
   ],
   "source": [
    "geosurveys.shape"
   ]
  },
  {
   "cell_type": "code",
   "execution_count": 12,
   "metadata": {
    "colab": {},
    "colab_type": "code",
    "id": "BXYXQPLFsH7E"
   },
   "outputs": [
    {
     "data": {
      "text/plain": [
       "abre_fin_de_semana             219\n",
       "assigned_to                    604\n",
       "cadena_frio                    313\n",
       "cant_carga                     325\n",
       "cant_merma                     326\n",
       "cant_sku                       319\n",
       "change_type                    512\n",
       "changeset_id                   512\n",
       "created_at                       0\n",
       "created_by                       0\n",
       "fulcrum_id                       0\n",
       "geometry                         0\n",
       "gps_altitude                   288\n",
       "gps_course                     412\n",
       "gps_horizontal_accuracy        242\n",
       "gps_speed                      455\n",
       "gps_vertical_accuracy          455\n",
       "hora_apertura_fin_de_semana    367\n",
       "hora_apertura_semana           218\n",
       "hora_cierre_fin_de_semana      370\n",
       "hora_cierre_semana             219\n",
       "horario_atencion_igual         263\n",
       "latitude                         0\n",
       "longitude                        0\n",
       "lugar_principal                306\n",
       "motivo_no_oferta               396\n",
       "motivo_no_oferta_other         528\n",
       "motivo_si_oferta               395\n",
       "motivo_si_oferta_other         553\n",
       "num_entregas_fv                318\n",
       "num_entregas_general            36\n",
       "num_lugares                    307\n",
       "num_personas                   197\n",
       "num_recojos_fv                 318\n",
       "num_recojos_general             56\n",
       "num_viajes_lugar_principal     331\n",
       "project                        604\n",
       "status                         604\n",
       "superficie_bodega               47\n",
       "system_created_at                0\n",
       "system_updated_at                0\n",
       "updated_at                       0\n",
       "updated_by                       0\n",
       "vehiculo_recojo                336\n",
       "vehiculo_recojo_other          582\n",
       "venta_frutas                     0\n",
       "venta_verduras                   0\n",
       "version                          0\n",
       "dtype: int64"
      ]
     },
     "execution_count": 12,
     "metadata": {},
     "output_type": "execute_result"
    }
   ],
   "source": [
    "geosurveys.isna().sum()"
   ]
  },
  {
   "cell_type": "markdown",
   "metadata": {
    "colab_type": "text",
    "id": "2EXYKg-IrxHC"
   },
   "source": [
    "\n",
    "## 2.2 Concatenate tables"
   ]
  },
  {
   "cell_type": "code",
   "execution_count": 13,
   "metadata": {
    "colab": {},
    "colab_type": "code",
    "id": "uunzdfv0zFhN",
    "scrolled": true
   },
   "outputs": [
    {
     "name": "stdout",
     "output_type": "stream",
     "text": [
      "Index(['ID', 'NOMBCOMP1', 'DOMICILIO', 'COORDX', 'COORDY', 'in_food_desert',\n",
      "       'venta_frutas', 'venta_verduras', 'superficie_bodega',\n",
      "       'num_entregas_general', 'num_recojos_general', 'num_lugares',\n",
      "       'lugar_principal', 'vehiculo_recojo', 'num_entregas_fv',\n",
      "       'num_recojos_fv', 'num_viajes_lugar_principal', 'cant_carga',\n",
      "       'cant_sku', 'cadena_frio', 'cant_merma', 'motivo_no_oferta',\n",
      "       'geometry'],\n",
      "      dtype='object')\n",
      "\n",
      "Index(['abre_fin_de_semana', 'assigned_to', 'cadena_frio', 'cant_carga',\n",
      "       'cant_merma', 'cant_sku', 'change_type', 'changeset_id', 'created_at',\n",
      "       'created_by', 'fulcrum_id', 'geometry', 'gps_altitude', 'gps_course',\n",
      "       'gps_horizontal_accuracy', 'gps_speed', 'gps_vertical_accuracy',\n",
      "       'hora_apertura_fin_de_semana', 'hora_apertura_semana',\n",
      "       'hora_cierre_fin_de_semana', 'hora_cierre_semana',\n",
      "       'horario_atencion_igual', 'latitude', 'longitude', 'lugar_principal',\n",
      "       'motivo_no_oferta', 'motivo_no_oferta_other', 'motivo_si_oferta',\n",
      "       'motivo_si_oferta_other', 'num_entregas_fv', 'num_entregas_general',\n",
      "       'num_lugares', 'num_personas', 'num_recojos_fv', 'num_recojos_general',\n",
      "       'num_viajes_lugar_principal', 'project', 'status', 'superficie_bodega',\n",
      "       'system_created_at', 'system_updated_at', 'updated_at', 'updated_by',\n",
      "       'vehiculo_recojo', 'vehiculo_recojo_other', 'venta_frutas',\n",
      "       'venta_verduras', 'version'],\n",
      "      dtype='object')\n"
     ]
    }
   ],
   "source": [
    "print(geo_complete_survey.columns, end='\\n\\n')\n",
    "print(geosurveys.columns)"
   ]
  },
  {
   "cell_type": "code",
   "execution_count": 14,
   "metadata": {
    "colab": {},
    "colab_type": "code",
    "id": "y3xh2h9ktosq"
   },
   "outputs": [],
   "source": [
    "# concat surveys\n",
    "all_data = pd.concat([geo_complete_survey, geosurveys], ignore_index=True)\n",
    "\n",
    "# Complete NaNs in lat-long columns\n",
    "all_data.latitude = all_data.latitude.fillna(all_data.COORDY)\n",
    "all_data.longitude = all_data.longitude.fillna(all_data.COORDX)\n",
    "\n",
    "# Filter relevant variables\n",
    "\n",
    "selected_vars = ['latitude', 'longitude', 'geometry',\n",
    "                 'venta_frutas', 'venta_verduras', 'superficie_bodega', 'num_personas',\n",
    "                 'hora_apertura_semana', 'hora_cierre_semana', 'abre_fin_de_semana',\n",
    "                 'horario_atencion_igual', 'hora_apertura_fin_de_semana',\n",
    "                 'hora_cierre_fin_de_semana', 'num_entregas_general',\n",
    "                 'num_recojos_general', 'num_lugares', 'num_entregas_fv',\n",
    "                 'num_recojos_fv', 'lugar_principal', 'vehiculo_recojo',\n",
    "                 'vehiculo_recojo_other', 'num_viajes_lugar_principal', 'cant_carga',\n",
    "                 'cant_sku', 'cadena_frio', 'cant_merma', 'motivo_si_oferta',\n",
    "                 'motivo_si_oferta_other', 'motivo_no_oferta', 'motivo_no_oferta_other',\n",
    "                 'gps_altitude']\n",
    "\n",
    "all_data = all_data[selected_vars]"
   ]
  },
  {
   "cell_type": "code",
   "execution_count": 15,
   "metadata": {
    "colab": {},
    "colab_type": "code",
    "id": "EEeJtCx2_NZy"
   },
   "outputs": [
    {
     "data": {
      "text/plain": [
       "(619, 31)"
      ]
     },
     "execution_count": 15,
     "metadata": {},
     "output_type": "execute_result"
    }
   ],
   "source": [
    "all_data.shape"
   ]
  },
  {
   "cell_type": "code",
   "execution_count": 16,
   "metadata": {
    "colab": {},
    "colab_type": "code",
    "id": "5XaqyDnp4z8W"
   },
   "outputs": [
    {
     "data": {
      "text/plain": [
       "latitude                         0\n",
       "longitude                        0\n",
       "geometry                         0\n",
       "venta_frutas                     0\n",
       "venta_verduras                   0\n",
       "superficie_bodega               47\n",
       "num_personas                   212\n",
       "hora_apertura_semana           233\n",
       "hora_cierre_semana             234\n",
       "abre_fin_de_semana             234\n",
       "horario_atencion_igual         278\n",
       "hora_apertura_fin_de_semana    382\n",
       "hora_cierre_fin_de_semana      385\n",
       "num_entregas_general            37\n",
       "num_recojos_general             60\n",
       "num_lugares                    312\n",
       "num_entregas_fv                326\n",
       "num_recojos_fv                 325\n",
       "lugar_principal                312\n",
       "vehiculo_recojo                340\n",
       "vehiculo_recojo_other          597\n",
       "num_viajes_lugar_principal     338\n",
       "cant_carga                     332\n",
       "cant_sku                       326\n",
       "cadena_frio                    318\n",
       "cant_merma                     333\n",
       "motivo_si_oferta               410\n",
       "motivo_si_oferta_other         568\n",
       "motivo_no_oferta               404\n",
       "motivo_no_oferta_other         543\n",
       "gps_altitude                   303\n",
       "dtype: int64"
      ]
     },
     "execution_count": 16,
     "metadata": {},
     "output_type": "execute_result"
    }
   ],
   "source": [
    "# View NaN count for each variable\n",
    "all_data.isna().sum()"
   ]
  },
  {
   "cell_type": "markdown",
   "metadata": {
    "colab_type": "text",
    "id": "52ULC2znr8ny"
   },
   "source": [
    "\n",
    "## 2.3 Data Cleaning\n",
    "\n",
    "Verify data types and clean unique values for each column"
   ]
  },
  {
   "cell_type": "code",
   "execution_count": 17,
   "metadata": {
    "colab": {},
    "colab_type": "code",
    "id": "o5ysZoJ93llx"
   },
   "outputs": [
    {
     "data": {
      "text/plain": [
       "latitude                        float64\n",
       "longitude                       float64\n",
       "geometry                       geometry\n",
       "venta_frutas                    float64\n",
       "venta_verduras                  float64\n",
       "superficie_bodega                object\n",
       "num_personas                    float64\n",
       "hora_apertura_semana             object\n",
       "hora_cierre_semana               object\n",
       "abre_fin_de_semana               object\n",
       "horario_atencion_igual           object\n",
       "hora_apertura_fin_de_semana      object\n",
       "hora_cierre_fin_de_semana        object\n",
       "num_entregas_general            float64\n",
       "num_recojos_general             float64\n",
       "num_lugares                     float64\n",
       "num_entregas_fv                 float64\n",
       "num_recojos_fv                  float64\n",
       "lugar_principal                  object\n",
       "vehiculo_recojo                  object\n",
       "vehiculo_recojo_other            object\n",
       "num_viajes_lugar_principal      float64\n",
       "cant_carga                      float64\n",
       "cant_sku                        float64\n",
       "cadena_frio                     float64\n",
       "cant_merma                      float64\n",
       "motivo_si_oferta                 object\n",
       "motivo_si_oferta_other           object\n",
       "motivo_no_oferta                 object\n",
       "motivo_no_oferta_other           object\n",
       "gps_altitude                    float64\n",
       "dtype: object"
      ]
     },
     "execution_count": 17,
     "metadata": {},
     "output_type": "execute_result"
    }
   ],
   "source": [
    "# Verify data types\n",
    "all_data.dtypes"
   ]
  },
  {
   "cell_type": "code",
   "execution_count": 18,
   "metadata": {
    "colab": {},
    "colab_type": "code",
    "id": "-Zzn1ujAv9mp"
   },
   "outputs": [],
   "source": [
    "def superficie_to_km2(x):\n",
    "    '''Converts string indicating km2 surface to numeric value'''\n",
    "    if x != None:\n",
    "        if type(x) == float:\n",
    "            return x\n",
    "        elif type(x) == str:\n",
    "            x_nums = x.split('x')\n",
    "            return int(x_nums[0])*int(x_nums[1])\n",
    "    else:\n",
    "        return pd.np.nan"
   ]
  },
  {
   "cell_type": "code",
   "execution_count": 19,
   "metadata": {
    "colab": {},
    "colab_type": "code",
    "id": "Aq6R15E2jwIU"
   },
   "outputs": [
    {
     "name": "stdout",
     "output_type": "stream",
     "text": [
      "[16. 20. 49.  6. 30. 10.  4. 25.  9. nan 45. 64. 32. 28. 12. 18.  8. 48.\n",
      " 15. 24. 40. 84. 21. 35. 36. 14. 60. 63. 54. 42. 72. 81.  3.  1.  2.  5.\n",
      " 27. 56. 39.]\n"
     ]
    }
   ],
   "source": [
    "# Convert superficie_bodega to float\n",
    "all_data['superficie_bodega'] = all_data['superficie_bodega'].apply(superficie_to_km2)\n",
    "print(all_data['superficie_bodega'].unique())"
   ]
  },
  {
   "cell_type": "code",
   "execution_count": 20,
   "metadata": {
    "colab": {},
    "colab_type": "code",
    "id": "3Flw4gYp3nY8"
   },
   "outputs": [
    {
     "name": "stdout",
     "output_type": "stream",
     "text": [
      "[ 1. nan  0.]\n"
     ]
    }
   ],
   "source": [
    "print(all_data['cadena_frio'].unique())"
   ]
  },
  {
   "cell_type": "code",
   "execution_count": 21,
   "metadata": {
    "colab": {},
    "colab_type": "code",
    "id": "Ax7egtoU4HQA"
   },
   "outputs": [
    {
     "name": "stdout",
     "output_type": "stream",
     "text": [
      "antes:  [nan 'Chorrillos' 'Unicachi' 'Santa Rosa' 'La Parada' 'Mercado municipal'\n",
      " 'Mercado Central - Parada' 'Mercado de frutas' 'Mercado central - parada'\n",
      " 'El mercado principal' 'Mercado mayorista' 'Mercado mayorita' 'Mercado'\n",
      " 'Mercado frutas ate' 'Mercado modelo san miguel' 'Mercado san miguel'\n",
      " 'Contacto del mercado' 'No sabe quien lo trae' 'Amigo que vende frutas'\n",
      " 'Proveedor fruta' 'Mercado santa anita' 'Mercado la victoria' 'Mercado '\n",
      " 'Mercado de fruta' 'Mercado de frutas de santa anita'\n",
      " 'Mercado de Santa Anita' 'Mercado de Frutas' 'Mercado de productores'\n",
      " 'Mercado de frutas de san luis' 'Mercado Frutas' 'Arriola'\n",
      " 'Mercado mayorista de frutas ' 'Mercado de frutas '\n",
      " 'Mercado de Surquillo ' 'Mercado de Surquillo' 'Mercados de Surquillo'\n",
      " 'Mercado de frutas y verduras' 'Mercado de frutas (Caquetá) '\n",
      " 'Mercado de mayoristas ' 'Mercado mayorista ' 'Mercado de arriola'\n",
      " 'Lurin' 'Mercado de fruta ' 'Santa Anita ' 'Comunidad de la sierra '\n",
      " 'La parada' 'Ica' 'La Prada ' 'Mayorista Santa Anita ' 'Mayorista '\n",
      " 'Mercado Surquillo' 'Santa anita' 'La parada ' 'Santa anita '\n",
      " 'La Parada ' 'San Anita' 'Santa Anita' 'Parada' 'Mercado Mayorista'\n",
      " 'Mercado frutas ' 'Mercado frutas san Luis '\n",
      " 'Mercado mayorista de santa anita' 'Mercado de santa anita'\n",
      " 'Mercado de san luis' 'Mercado Barranco' 'Mercado frutas'\n",
      " 'Mercado San Martin de Porres' 'Mercado los pasoso' 'Mercado Unicachi'\n",
      " 'Mercado central' 'Mercado unicachi' 'Mercado Mayorista Nicolas Arriola'\n",
      " 'Mercado Mayorista 2' 'Mercado Mayorista 2 de Frutas '\n",
      " 'Mercado de Frutas ' 'Proveedor' 'Mercado Santa Anita '\n",
      " 'Mercado Mayorista ' 'Mercado de santa Anita ' '2' 'Mercado Tupac Amaru'\n",
      " 'Unicachi ' 'ParadA' 'Villa sur' 'Mercado cerca' 'Mercado mangomarca'\n",
      " 'Mercado el bosque' 'Mercado la laguna' 'Parada o mercado'\n",
      " 'Mercado unicachi ' 'Mercado Unicachi ' 'Mercado Modelo'\n",
      " 'Parada y mercado de frutas' 'Mercado mayorista de fruta '\n",
      " 'Mercado vencedores ' 'Mercado vencedores' 'Mercado mayorista de frutas'\n",
      " 'Mercado santa rosa ' 'Mercado Unichachi' 'Mercado Mareategui'\n",
      " 'Mercado mareategui' 'Villa Sur' 'Mareategui' 'Mango marca' 'Parada '\n",
      " '28 de julio' 'San luis' 'Mercado Vencedores' 'Mercado de Santa anita']\n",
      "despues:  [nan 'Mercado de Chorrillos' 'Mercado Mayorista Plaza Unicachi Sur'\n",
      " 'Mercado de Santa Rosa' 'Mercado Minorista - La Parada'\n",
      " 'Mercado de Frutas' 'Mercado San Miguel' 'Gran Mercado Mayorista De Lima'\n",
      " 'Mercado de Santa Anita' 'Mercado Productores'\n",
      " 'Mercado de Frutas de San Luis' 'Mercado de Surquillo' 'Mercado Caquetá'\n",
      " 'Mercado Lurin' 'Comunidad de la Sierra' 'Mercado Barranco'\n",
      " 'Mercado San Martin de Porres' 'Mercado Los Pazos' 'Mercado Central'\n",
      " 'Mercado Tupac Amaru' 'Centro Comercial Plaza Villa Sur'\n",
      " 'Mercado Central de Mangomarca' 'Mercado El Bosque' 'Mercado La Laguna'\n",
      " 'Mercado Modelo de Villa el Salvador' 'Mercado Vencedores'\n",
      " 'Mercado José Carlos Mariategui' 'Mercado Jorge Chavez'\n",
      " 'Mercado San Luis']\n"
     ]
    }
   ],
   "source": [
    "print('antes: ', all_data['lugar_principal'].unique())\n",
    "\n",
    "\n",
    "toreplace_dict = {\n",
    "    ### Mercado de Santa Anita\n",
    "    'Mercado de santa anita': 'Gran Mercado Mayorista De Lima',\n",
    "    'Mercado santa anita': 'Gran Mercado Mayorista De Lima',\n",
    "    'Mercado de santa Anita': 'Gran Mercado Mayorista De Lima',\n",
    "    'Santa Anita': 'Gran Mercado Mayorista De Lima',\n",
    "    'Santa Anita ': 'Gran Mercado Mayorista De Lima',\n",
    "    'Santa anita': 'Gran Mercado Mayorista De Lima',\n",
    "    'Mercado de Santa anita': 'Gran Mercado Mayorista De Lima',\n",
    "    'Mercado Santa Anita ': 'Gran Mercado Mayorista De Lima',\n",
    "    'Mercado de frutas de santa anita': 'Gran Mercado Mayorista De Lima',\n",
    "    'Mercado de santa Anita ': 'Gran Mercado Mayorista De Lima',\n",
    "    'Mercado mayorista de santa anita': 'Gran Mercado Mayorista De Lima',\n",
    "    'Mayorista Santa Anita ': 'Gran Mercado Mayorista De Lima',\n",
    "    'Santa anita ': 'Gran Mercado Mayorista De Lima',\n",
    "    'San Anita': 'Gran Mercado Mayorista De Lima',\n",
    "    \n",
    "    ### Mercado Central de Mangomarca\n",
    "    'Mercado cerca': 'Mercado Central de Mangomarca',\n",
    "    'Mercado mangomarca': 'Mercado Central de Mangomarca',\n",
    "    'Mango marca': 'Mercado Central de Mangomarca',\n",
    "    \n",
    "    ### Mercado Mayorista Plaza Unicachi Sur\n",
    "    'Unicachi': 'Mercado Mayorista Plaza Unicachi Sur',\n",
    "    'Mercado Unicachi': 'Mercado Mayorista Plaza Unicachi Sur',\n",
    "    'Mercado unicachi': 'Mercado Mayorista Plaza Unicachi Sur',\n",
    "    'Mercado Unichachi': 'Mercado Mayorista Plaza Unicachi Sur',\n",
    "    'Mercado de frutas': 'Mercado Mayorista Plaza Unicachi Sur',\n",
    "    'Mercado unicachi ': 'Mercado Mayorista Plaza Unicachi Sur',\n",
    "    'Mercado Unicachi ': 'Mercado Mayorista Plaza Unicachi Sur',\n",
    "    'Unicachi ': 'Mercado Mayorista Plaza Unicachi Sur',\n",
    "    \n",
    "    ### Mercado Minorista - La Parada\n",
    "    'ParadA': 'Mercado Minorista - La Parada',\n",
    "    'Parada y mercado de frutas': 'Mercado Minorista - La Parada',\n",
    "    'Parada o mercado': 'Mercado Minorista - La Parada',\n",
    "    'Parada': 'Mercado Minorista - La Parada',\n",
    "    'La parada': 'Mercado Minorista - La Parada',\n",
    "    'La Parada': 'Mercado Minorista - La Parada',\n",
    "    'Mercado Central - Parada': 'Mercado Minorista - La Parada',\n",
    "    'Mercado central - parada': 'Mercado Minorista - La Parada',\n",
    "    'Parada ': 'Mercado Minorista - La Parada',\n",
    "    'La Prada ': 'Mercado Minorista - La Parada',\n",
    "    'La parada ': 'Mercado Minorista - La Parada',\n",
    "    'La Parada ': 'Mercado Minorista - La Parada',\n",
    "    \n",
    "    ### Centro Comercial Plaza Villa Sur\n",
    "    'Villa sur': 'Centro Comercial Plaza Villa Sur',\n",
    "    'Villa Sur': 'Centro Comercial Plaza Villa Sur',\n",
    "    \n",
    "    ### Mercado de Frutas\n",
    "    'Mercado de Frutas': 'Mercado de Frutas',\n",
    "    'Mercado mayorista de frutas': 'Mercado de Frutas',\n",
    "    'Mercado mayorista de fruta': 'Mercado de Frutas',\n",
    "    'Mercado mayorista de frutas ': 'Mercado de Frutas',\n",
    "    'Mercado de frutas ': 'Mercado de Frutas',\n",
    "    'Mercado de frutas y verduras': 'Mercado de Frutas',\n",
    "    'Mercado de fruta ': 'Mercado de Frutas',\n",
    "    'Mercado de mayoristas ': 'Mercado de Frutas',\n",
    "    'Mercado mayorista ': 'Mercado de Frutas',\n",
    "    'Mercado mayorista': 'Mercado de Frutas',\n",
    "    'Mercado mayorita': 'Mercado de Frutas',\n",
    "    '2': 'Mercado de Frutas',\n",
    "    'Mercado frutas ': 'Mercado de Frutas',\n",
    "    'Mercado Mayorista ': 'Mercado de Frutas',\n",
    "    'Mercado de fruta': 'Mercado de Frutas',\n",
    "    'Mercado Frutas': 'Mercado de Frutas',\n",
    "    'Mercado mayorista de fruta ': 'Mercado de Frutas',\n",
    "    'Mercado Mayorista 2': 'Mercado de Frutas',\n",
    "    'Mercado Mayorista 2 de Frutas ': 'Mercado de Frutas',\n",
    "    'Mercado de Frutas ': 'Mercado de Frutas',\n",
    "    'Mercado frutas': 'Mercado de Frutas',\n",
    "    'Mayorista ': 'Mercado de Frutas',\n",
    "    'Mercado Mayorista': 'Mercado de Frutas',\n",
    "    'Mercado frutas ate': 'Mercado de Frutas',\n",
    "    'Mercado de arriola': 'Mercado de Frutas',\n",
    "    'Mercado Mayorista Nicolas Arriola': 'Mercado de Frutas',\n",
    "    'Arriola': 'Mercado de Frutas',\n",
    "    'Mercado la victoria': 'Mercado de Frutas',\n",
    "    \n",
    "    ### Mercado José Carlos Mariategui\n",
    "    'Mercado mareategui':'Mercado José Carlos Mariategui',\n",
    "    'Mareategui':'Mercado José Carlos Mariategui',\n",
    "    'Mercado Mareategui':'Mercado José Carlos Mariategui',\n",
    "    \n",
    "    ### Mercado de Surquillo\n",
    "    'Mercado de Surquillo ': 'Mercado de Surquillo',\n",
    "    'Mercados de Surquillo': 'Mercado de Surquillo',\n",
    "    'Mercado Surquillo': 'Mercado de Surquillo',\n",
    "    \n",
    "    ### Mercado San Miguel\n",
    "    'Mercado modelo san miguel': 'Mercado San Miguel',\n",
    "    'Mercado san miguel': 'Mercado San Miguel',\n",
    "    \n",
    "    ### Mercado de Frutas de San Luis\n",
    "    'Mercado de frutas de san luis': 'Mercado de Frutas de San Luis',\n",
    "    'Mercado frutas san Luis ': 'Mercado de Frutas de San Luis',\n",
    "    'Mercado de san luis': 'Mercado de Frutas de San Luis',\n",
    "    'Mercado San Luis': 'Mercado de Frutas de San Luis',\n",
    "    \n",
    "    ### Mercado de Santa Rosa\n",
    "    'Mercado santa rosa': 'Mercado de Santa Rosa',\n",
    "    'Mercado santa rosa ': 'Mercado de Santa Rosa',\n",
    "    'Santa Rosa': 'Mercado de Santa Rosa',\n",
    "    \n",
    "    ### Mercado Vencedores\n",
    "    'Mercado vencedores': 'Mercado Vencedores',\n",
    "    'Mercado vencedores ': 'Mercado Vencedores',\n",
    "    \n",
    "    ### Otros\n",
    "    'Mercado el bosque': 'Mercado El Bosque',\n",
    "    'Mercado de productores': 'Mercado Productores',\n",
    "    'Mercado la laguna': 'Mercado La Laguna',\n",
    "    'Mercado Modelo': 'Mercado Modelo de Villa el Salvador',\n",
    "    'Chorrillos': 'Mercado de Chorrillos',\n",
    "    'San luis': 'Mercado San Luis',\n",
    "    '28 de julio': 'Mercado Jorge Chavez', # revisado en OSMaps\n",
    "    'Lurin': 'Mercado Lurin',\n",
    "    'Comunidad de la sierra ': 'Comunidad de la Sierra',\n",
    "    'Mercado de frutas (Caquetá) ': 'Mercado Caquetá',\n",
    "    'Mercado central': 'Mercado Central',\n",
    "    'Mercado los pasoso': 'Mercado Los Pazos',  # revisado en OSMaps\n",
    "    \n",
    "    ### NaNs\n",
    "    'Mercado': np.nan,\n",
    "    'Mercado ': np.nan,\n",
    "    'Mercado municipal': np.nan,\n",
    "    'El mercado principal': np.nan,\n",
    "    'Contacto del mercado': np.nan,\n",
    "    'No sabe quien lo trae': np.nan,\n",
    "    'Amigo que vende frutas': np.nan,\n",
    "    'Proveedor fruta': np.nan,\n",
    "    'Proveedor': np.nan,\n",
    "    'Ica': np.nan\n",
    "}\n",
    "\n",
    "all_data['lugar_principal'] = all_data['lugar_principal'].replace(toreplace_dict)\n",
    "print('despues: ', all_data['lugar_principal'].unique())"
   ]
  },
  {
   "cell_type": "code",
   "execution_count": 22,
   "metadata": {},
   "outputs": [],
   "source": [
    "missing_idx = all_data[all_data['motivo_si_oferta'].isna()]['motivo_si_oferta_other'].isna().index\n",
    "\n",
    "all_data.loc[missing_idx, 'motivo_si_oferta'] = 'Otros'"
   ]
  },
  {
   "cell_type": "code",
   "execution_count": 23,
   "metadata": {
    "colab": {},
    "colab_type": "code",
    "id": "m6reC2UGfL0Z"
   },
   "outputs": [
    {
     "name": "stdout",
     "output_type": "stream",
     "text": [
      "antes:  ['Otros' 'Los clientes piden FyVs' 'Es fácil adquirir FyVs'\n",
      " 'No hay otros sitios cerca que ofrezcan FyVs']\n"
     ]
    }
   ],
   "source": [
    "print('antes: ', all_data['motivo_si_oferta'].unique())\n",
    "# toreplace_dict = {\n",
    "#     ### Los clientes piden FyVs\n",
    "#     'Porque los clientes piden frutas': 'Los clientes piden FyVs',\n",
    "#     'la gente pide para lonchera': 'Los clientes piden FyVs',\n",
    "#     'es lo que la gente m�s pide': 'Los clientes piden FyVs',\n",
    "#     'las personas piden para sus hijos': 'Los clientes piden FyVs',\n",
    "#     'las personas piden': 'Los clientes piden FyVs',\n",
    "#     'los clientes piden frutas y verduras': 'Los clientes piden FyVs',\n",
    "#     'la gente pide frutas y verduras': 'Los clientes piden FyVs',\n",
    "#     'la gente pide y a la vez queda para su consumo': 'Los clientes piden FyVs',\n",
    "#     ### No hay otros sitios cerca que ofrezcan FyVs\n",
    "#     'no hay una mercado cerca y la gente quiere comprar de todo': 'No hay otros sitios cerca que ofrezcan FyVs',\n",
    "#     'No hay un mercado cerca': 'No hay otros sitios cerca que ofrezcan FyVs',\n",
    "#     ### Es fácil adquirir FyVs\n",
    "#     ### Otros:\n",
    "#     'por que tiene la licencia para vender': 'Otros',\n",
    "#     'Porque hay un colegio cerca': 'Otros',\n",
    "#     'Por tiempo de colegio': 'Otros',\n",
    "#     'Porque cree que le puede generar m�s ingresos': 'Otros',\n",
    "#     'para surtir el negocio': 'Otros',\n",
    "#     'Por la temporada escolar y para surtir': 'Otros',\n",
    "#     'Para surtir el negocio': 'Otros',\n",
    "#     'frutas por temporada': 'Otros',\n",
    "#     'Para que la bodega sea surtida': 'Otros',\n",
    "#     'Para surtir el negocio y tener m�s ingresos': 'Otros',\n",
    "#     'para que exista variedad en los productos': 'Otros',\n",
    "#     'Por temporada escolar': 'Otros',\n",
    "#     'surtir el negocio': 'Otros',\n",
    "#     'Parasurtir negocio':'Otros',\n",
    "#     'Por la temporada escolar':'Otros'\n",
    "# }\n",
    "\n",
    "# all_data_questions['motivo_si_'] = all_data_questions['motivo_si_'].replace(toreplace_dict)\n",
    "# print('despues: ', all_data_questions['motivo_si_'].unique())"
   ]
  },
  {
   "cell_type": "code",
   "execution_count": 24,
   "metadata": {},
   "outputs": [],
   "source": [
    "missing_idx = all_data[all_data['motivo_no_oferta'].isna()]['motivo_no_oferta_other'].isna().index\n",
    "\n",
    "all_data.loc[missing_idx, 'motivo_no_oferta'] = 'Otros'"
   ]
  },
  {
   "cell_type": "code",
   "execution_count": 25,
   "metadata": {
    "colab": {},
    "colab_type": "code",
    "id": "Tc76eRma4pcn"
   },
   "outputs": [
    {
     "name": "stdout",
     "output_type": "stream",
     "text": [
      "antes:  ['No tiene tiempo' 'Otros' '1' '1 y 2' 'No demanda' 1.0\n",
      " 'Las FyVs se malogran' 'Los clientes no piden FyVs'\n",
      " 'No tiene los medios para abastecerse' 'Las FyVs son muy caras'\n",
      " 'Cercanía de otros locales que ofrecen FyVs']\n",
      "despues:  ['No tiene tiempo' 'Otros' 'Las FyVs se malogran'\n",
      " 'Los clientes no piden FyVs' 'No tiene los medios para abastecerse'\n",
      " 'Las FyVs son muy caras' 'Cercanía de otros locales que ofrecen FyVs']\n"
     ]
    }
   ],
   "source": [
    "print('antes: ', all_data['motivo_no_oferta'].unique())\n",
    "\n",
    "toreplace_dict = {\n",
    "  1: 'Las FyVs se malogran',\n",
    "  '1': 'Las FyVs se malogran',\n",
    "  '1 y 2': 'Las FyVs se malogran',\n",
    "  'No demanda': 'Los clientes no piden FyVs'\n",
    "}\n",
    "\n",
    "# toreplace_dict = {\n",
    "#     ### Los clientes no piden FyVs\n",
    "#     'No demanda': 'Los clientes no piden FyVs',\n",
    "#     'la gente quiere algo r�pido para comer': 'Los clientes no piden FyVs',\n",
    "#     ### No tiene los medios para abastecerse\n",
    "#     'por la movilidad y lo lejos que queda': 'No tiene los medios para abastecerse',\n",
    "#     'Por la disponibilidad de tiempo': 'No tiene los medios para abastecerse',\n",
    "#     'Porque no alcanza el tiempo': 'No tiene los medios para abastecerse',\n",
    "#     'horario': 'No tiene los medios para abastecerse',\n",
    "#     'No tiene tiempo': 'No tiene los medios para abastecerse',\n",
    "#     ### Cercanía de lugares con FyVs\n",
    "#     'Hay un mercado donde venden frutas y verduras': 'Cercania de lugares con FyVs',\n",
    "#     'Existencia de un mercado dedicado a la fruta': 'Cercania de lugares con FyVs',\n",
    "#     'tiendas cercanas con fyv': 'Cercania de lugares con FyVs',\n",
    "#     'Porque hay un mercado al frente': 'Cercania de lugares con FyVs',\n",
    "#     'Mercado cerca': 'Cercania de lugares con FyVs',\n",
    "#     'Mercado cercano': 'Cercania de lugares con FyVs',\n",
    "#     'hay otras bodegas cerca': 'Cercania de lugares con FyVs',\n",
    "#     'hay un mercado cerca': 'Cercania de lugares con FyVs',\n",
    "#     'Porque hay un mercado cerca': 'Cercania de lugares con FyVs',\n",
    "#     'Cercan�a de otros locales que ofrecen FyVs': 'Cercania de lugares con FyVs',\n",
    "#     ### Las FyVs se malogran\n",
    "#     '1': 'Las FyVs se malogran',    \n",
    "#     '1 y 2': 'Las FyVs se malogran',\n",
    "#     'las frutas se malogran y las verduras no las compran': 'Las FyVs se malogran',\n",
    "#     'las frutas y verduras se malogran muy r�pido': 'Las FyVs se malogran',\n",
    "#     'Por el tiempo y se malogran': 'Las FyVs se malogran',\n",
    "#     'Por el verano se malogran las F y V': 'Las FyVs se malogran',\n",
    "#     'Se malogran en verano, pero en invierno s� los vende': 'Las FyVs se malogran',\n",
    "#     'se malogran muy f�cil, no se mantienen fresca': 'Las FyVs se malogran',\n",
    "#     'En temporada de verano no venden F y V pero en invierno s�': 'Las FyVs se malogran',\n",
    "#     ### Las FyVs son muy caras\n",
    "#     'no le sale a cuenta la mercader�a': 'Las FyVs son muy caras',\n",
    "#     ### Otros\n",
    "#     'reci�n esta empezando a vender': 'Otros',\n",
    "#     'no tengo espacio ni conservador': 'Otros',\n",
    "#     'no tiene espacio': 'Otros',\n",
    "#     'por estar cerca a la playa': 'Otros',\n",
    "#     'por el verano no se vende, m�s se vende ropas': 'Otros',\n",
    "#     'tambi�n vende licores': 'Otros',\n",
    "#     'Bodega reci�n empezando': 'Otros',\n",
    "#     'tienda peque�a':'Otros',\n",
    "#     'trabaja a puerta cerradq':'Otros',\n",
    "#     'No es de su inter�s vender f y v': 'Otros',\n",
    "#     'solo le gusta vender abarrotes, nunca ha vendido frutas y verduras':'Otros',\n",
    "#     'el establecimiento no es adecuado, no hay espacio':'Otros',\n",
    "#     'no es rubro':'Otros' \n",
    "# }\n",
    "\n",
    "\n",
    "all_data['motivo_no_oferta'] = all_data['motivo_no_oferta'].replace(toreplace_dict)\n",
    "print('despues: ', all_data['motivo_no_oferta'].unique())"
   ]
  },
  {
   "cell_type": "code",
   "execution_count": 26,
   "metadata": {
    "colab": {},
    "colab_type": "code",
    "id": "PM7QQnxW56Mj"
   },
   "outputs": [],
   "source": [
    "# all_data_questions['num_entreg'] = all_data_questions['num_entreg'].astype(float)\n",
    "# all_data_questions['num_recojo'] = all_data_questions['num_recojo'].astype(float)"
   ]
  },
  {
   "cell_type": "code",
   "execution_count": 27,
   "metadata": {},
   "outputs": [],
   "source": [
    "missing_idx = all_data[all_data['vehiculo_recojo'].isna()]['vehiculo_recojo_other'].isna().index\n",
    "\n",
    "all_data.loc[missing_idx, 'vehiculo_recojo'] = 'Otros'"
   ]
  },
  {
   "cell_type": "code",
   "execution_count": 28,
   "metadata": {
    "colab": {},
    "colab_type": "code",
    "id": "rHnDKtA87sVh"
   },
   "outputs": [
    {
     "name": "stdout",
     "output_type": "stream",
     "text": [
      "antes:  ['No tiene' 'Si tiene' 'Otros' '4' '6' '1' 5.0 'Carretilla' 'Taxi'\n",
      " 'Carro particular' 'Transporte publico' 'Van' 'Camion simple']\n",
      "despues:  ['Otros' 'Carro particular' 'Transporte publico' 'Camion articulado'\n",
      " 'Taxi' 'Carretilla' 'Van' 'Camion simple']\n"
     ]
    }
   ],
   "source": [
    "print('antes: ', all_data['vehiculo_recojo'].unique())\n",
    "\n",
    "toreplace_dict = {\n",
    "    '1': 'Camion articulado',\n",
    "    '4': 'Carro particular',\n",
    "    5.0: 'Taxi',\n",
    "    '6': 'Transporte publico',\n",
    "    'Si tiene': 'Otros',\n",
    "    'No tiene': 'Otros'\n",
    "    }\n",
    "    \n",
    "    \n",
    "# toreplace_dict = {\n",
    "#     'No tiene': 'Otros',\n",
    "#     'Si tiene': 'Otros',\n",
    "#     '1': 'Camion articulado',\n",
    "#     '4': 'Carro particular',\n",
    "#     '5': 'Taxi',\n",
    "#     '6': 'Transporte publico',\n",
    "#     'moto': 'Moto',\n",
    "#     'mototaxi': 'Mototaxi',\n",
    "#     'Transporte Publico': 'Transporte publico',\n",
    "# }\n",
    "\n",
    "all_data['vehiculo_recojo'] = all_data['vehiculo_recojo'].replace(toreplace_dict)\n",
    "print('despues: ', all_data['vehiculo_recojo'].unique())"
   ]
  },
  {
   "cell_type": "code",
   "execution_count": 29,
   "metadata": {
    "colab": {},
    "colab_type": "code",
    "id": "MDAz1t1B7uz_"
   },
   "outputs": [
    {
     "name": "stdout",
     "output_type": "stream",
     "text": [
      "antes:  [0. 1.]\n"
     ]
    }
   ],
   "source": [
    "print('antes: ', all_data['venta_frutas'].unique())\n",
    "# all_data_questions['venta_frut'] = all_data_questions['venta_frut'].replace(to_replace=['0','1',0,1], value=['No','Si','No','Si'])\n",
    "# print('despues: ', all_data_questions['venta_frut'].unique())"
   ]
  },
  {
   "cell_type": "code",
   "execution_count": 30,
   "metadata": {
    "colab": {},
    "colab_type": "code",
    "id": "ZWQg-gJP88h8"
   },
   "outputs": [
    {
     "name": "stdout",
     "output_type": "stream",
     "text": [
      "antes:  [0. 1.]\n"
     ]
    }
   ],
   "source": [
    "print('antes: ', all_data['venta_verduras'].unique())\n",
    "# all_data_questions['venta_verd'] = all_data_questions['venta_verd'].replace(to_replace=['0','1',0,1], value=['No','Si','No','Si'])\n",
    "# print('despues: ', all_data_questions['venta_verd'].unique())"
   ]
  },
  {
   "cell_type": "code",
   "execution_count": 31,
   "metadata": {
    "colab": {},
    "colab_type": "code",
    "id": "4xFoRE43ZEum"
   },
   "outputs": [],
   "source": [
    "all_data.to_file('outputs/clean_surveys.geojson', driver='GeoJSON')"
   ]
  },
  {
   "cell_type": "markdown",
   "metadata": {
    "colab_type": "text",
    "id": "_6OLxQvnk2Lv"
   },
   "source": [
    "## 2.4 Create new variables"
   ]
  },
  {
   "cell_type": "code",
   "execution_count": 32,
   "metadata": {
    "colab": {},
    "colab_type": "code",
    "id": "DjpX2zjNLT7D"
   },
   "outputs": [],
   "source": [
    "def set_ventaFyV(x):\n",
    "    '''Return category acoording to survey defined logic'''\n",
    "    if (x['venta_frutas'] == 1) & (x['venta_verduras'] == 1): return 'Vende frutas y verduras'\n",
    "    elif (x['venta_frutas'] == 1) & (x['venta_verduras'] == 0): return 'Vende solo frutas'\n",
    "    elif (x['venta_frutas'] == 0) & (x['venta_verduras'] == 1): return 'Vende solo verduras'\n",
    "    else: return 'No vende frutas ni verduras' \n",
    "\n",
    "all_data['ventaFyV'] = all_data.apply(set_ventaFyV, axis=1)\n",
    "\n",
    "all_data['venta_bool'] = all_data['ventaFyV'].replace(\n",
    "    to_replace = ['Vende solo frutas', 'Vende solo verduras'],\n",
    "    value = ['Vende frutas y verduras', 'Vende frutas y verduras']\n",
    "    )"
   ]
  },
  {
   "cell_type": "code",
   "execution_count": 33,
   "metadata": {},
   "outputs": [],
   "source": [
    "all_data['atencion_semana'] = \\\n",
    "(pd.to_datetime(all_data['hora_cierre_semana'], format='%H:%M') - \\\n",
    "pd.to_datetime(all_data['hora_apertura_semana'], format='%H:%M')).dt.seconds\n",
    "\n",
    "all_data['atencion_fin_de_semana'] = \\\n",
    "(pd.to_datetime(all_data['hora_cierre_fin_de_semana'], format='%H:%M') - \\\n",
    "pd.to_datetime(all_data['hora_apertura_fin_de_semana'], format='%H:%M')).dt.seconds\n",
    "\n",
    "\n",
    "all_data['atencion_fin_de_semana'] = all_data.apply(\n",
    "    lambda row: row['atencion_semana'] if row['horario_atencion_igual'] == 'yes' else row['atencion_fin_de_semana'],\n",
    "    axis=1\n",
    ")\n",
    "\n",
    "all_data['atencion_fin_de_semana'] = all_data.apply(\n",
    "    lambda row: 0 if row['abre_fin_de_semana'] == 'no' else row['atencion_fin_de_semana'],\n",
    "    axis=1\n",
    ")"
   ]
  },
  {
   "cell_type": "code",
   "execution_count": 34,
   "metadata": {
    "scrolled": true
   },
   "outputs": [
    {
     "data": {
      "text/plain": [
       "latitude                         0\n",
       "longitude                        0\n",
       "geometry                         0\n",
       "venta_frutas                     0\n",
       "venta_verduras                   0\n",
       "superficie_bodega               47\n",
       "num_personas                   212\n",
       "hora_apertura_semana           233\n",
       "hora_cierre_semana             234\n",
       "abre_fin_de_semana             234\n",
       "horario_atencion_igual         278\n",
       "hora_apertura_fin_de_semana    382\n",
       "hora_cierre_fin_de_semana      385\n",
       "num_entregas_general            37\n",
       "num_recojos_general             60\n",
       "num_lugares                    312\n",
       "num_entregas_fv                326\n",
       "num_recojos_fv                 325\n",
       "lugar_principal                346\n",
       "vehiculo_recojo                  0\n",
       "vehiculo_recojo_other          597\n",
       "num_viajes_lugar_principal     338\n",
       "cant_carga                     332\n",
       "cant_sku                       326\n",
       "cadena_frio                    318\n",
       "cant_merma                     333\n",
       "motivo_si_oferta                 0\n",
       "motivo_si_oferta_other         568\n",
       "motivo_no_oferta                 0\n",
       "motivo_no_oferta_other         543\n",
       "gps_altitude                   303\n",
       "ventaFyV                         0\n",
       "venta_bool                       0\n",
       "atencion_semana                234\n",
       "atencion_fin_de_semana         237\n",
       "dtype: int64"
      ]
     },
     "execution_count": 34,
     "metadata": {},
     "output_type": "execute_result"
    }
   ],
   "source": [
    "all_data.isna().sum()"
   ]
  },
  {
   "cell_type": "code",
   "execution_count": 35,
   "metadata": {},
   "outputs": [
    {
     "data": {
      "text/plain": [
       "Index(['latitude', 'longitude', 'geometry', 'venta_frutas', 'venta_verduras',\n",
       "       'superficie_bodega', 'num_personas', 'hora_apertura_semana',\n",
       "       'hora_cierre_semana', 'abre_fin_de_semana', 'horario_atencion_igual',\n",
       "       'hora_apertura_fin_de_semana', 'hora_cierre_fin_de_semana',\n",
       "       'num_entregas_general', 'num_recojos_general', 'num_lugares',\n",
       "       'num_entregas_fv', 'num_recojos_fv', 'lugar_principal',\n",
       "       'vehiculo_recojo', 'vehiculo_recojo_other',\n",
       "       'num_viajes_lugar_principal', 'cant_carga', 'cant_sku', 'cadena_frio',\n",
       "       'cant_merma', 'motivo_si_oferta', 'motivo_si_oferta_other',\n",
       "       'motivo_no_oferta', 'motivo_no_oferta_other', 'gps_altitude',\n",
       "       'ventaFyV', 'venta_bool', 'atencion_semana', 'atencion_fin_de_semana'],\n",
       "      dtype='object')"
      ]
     },
     "execution_count": 35,
     "metadata": {},
     "output_type": "execute_result"
    }
   ],
   "source": [
    "all_data.columns"
   ]
  },
  {
   "cell_type": "code",
   "execution_count": 36,
   "metadata": {},
   "outputs": [],
   "source": [
    "# Impute missing values\n",
    "\n",
    "num_vars_not_missing = ['num_lugares', 'num_entregas_fv', 'num_recojos_fv',\n",
    "                        'num_viajes_lugar_principal', 'cant_carga',\n",
    "                        'cant_sku', 'cant_merma']\n",
    "cat_vars_not_missing = ['lugar_principal', 'vehiculo_recojo',\n",
    "                        'vehiculo_recojo_other','motivo_si_oferta',\n",
    "                        'motivo_si_oferta_other', ]\n",
    "\n",
    "def filter_not_missing(row):\n",
    "    if row['ventaFyV'] == 'No vende frutas ni verduras':\n",
    "        for var in all_data.columns:\n",
    "            if var in num_vars_not_missing:\n",
    "                row[var] = 0\n",
    "            if var in cat_vars_not_missing:\n",
    "                row[var] = 'missing'\n",
    "    return row\n",
    "\n",
    "geo = all_data['geometry']\n",
    "crs = all_data.crs\n",
    "\n",
    "all_data = all_data.apply(filter_not_missing, axis=1)\n",
    "all_data = gpd.GeoDataFrame(all_data, geometry=geo, crs=crs)"
   ]
  },
  {
   "cell_type": "code",
   "execution_count": 37,
   "metadata": {},
   "outputs": [
    {
     "data": {
      "text/plain": [
       "latitude                         0\n",
       "longitude                        0\n",
       "geometry                         0\n",
       "venta_frutas                     0\n",
       "venta_verduras                   0\n",
       "superficie_bodega               47\n",
       "num_personas                   212\n",
       "hora_apertura_semana           233\n",
       "hora_cierre_semana             234\n",
       "abre_fin_de_semana             234\n",
       "horario_atencion_igual         278\n",
       "hora_apertura_fin_de_semana    382\n",
       "hora_cierre_fin_de_semana      385\n",
       "num_entregas_general            37\n",
       "num_recojos_general             60\n",
       "num_lugares                     14\n",
       "num_entregas_fv                 26\n",
       "num_recojos_fv                  25\n",
       "lugar_principal                 47\n",
       "vehiculo_recojo                  0\n",
       "vehiculo_recojo_other          296\n",
       "num_viajes_lugar_principal      38\n",
       "cant_carga                      32\n",
       "cant_sku                        26\n",
       "cadena_frio                    318\n",
       "cant_merma                      33\n",
       "motivo_si_oferta                 0\n",
       "motivo_si_oferta_other         267\n",
       "motivo_no_oferta                 0\n",
       "motivo_no_oferta_other         543\n",
       "gps_altitude                   303\n",
       "ventaFyV                         0\n",
       "venta_bool                       0\n",
       "atencion_semana                234\n",
       "atencion_fin_de_semana         237\n",
       "dtype: int64"
      ]
     },
     "execution_count": 37,
     "metadata": {},
     "output_type": "execute_result"
    }
   ],
   "source": [
    "all_data.isna().sum()"
   ]
  },
  {
   "cell_type": "code",
   "execution_count": 38,
   "metadata": {
    "colab": {},
    "colab_type": "code",
    "id": "tXClEtuKdW1_"
   },
   "outputs": [],
   "source": [
    "# Load data and project to UTM\n",
    "lima_shape = gpd.read_file('inputs/lima_region_metropolitana/lima_metropolitana.shp')\n",
    "lima_shape_proj = ox.projection.project_gdf(lima_shape, to_crs={'init':'epsg:32718'})\n",
    "\n",
    "geomkts = gpd.read_file('inputs/geoMarkets')\n",
    "geomkts.crs = {'init': 'epsg:4326'} # set crs\n",
    "geomkts_proj = ox.projection.project_gdf(geomkts, to_crs={'init':'epsg:32718'})\n",
    "\n",
    "# Calculate Food Availability (fa) and Food Desert (fd) zones\n",
    "fa_zones = geomkts_proj.geometry.buffer(distance=1000, resolution=50) # 1km around markets\n",
    "lima_geom = lima_shape_proj.geometry.unary_union # lima multipolygon\n",
    "fa_geom = fa_zones.geometry.unary_union\n",
    "fd_geom = lima_geom.difference(fa_geom)"
   ]
  },
  {
   "cell_type": "code",
   "execution_count": 39,
   "metadata": {},
   "outputs": [
    {
     "name": "stdout",
     "output_type": "stream",
     "text": [
      "Food Availbility Zone area (km2): 794.3721534965385\n"
     ]
    }
   ],
   "source": [
    "print(\"Food Availbility Zone area (km2):\", fa_geom.area/1e+6)"
   ]
  },
  {
   "cell_type": "code",
   "execution_count": 40,
   "metadata": {},
   "outputs": [
    {
     "name": "stdout",
     "output_type": "stream",
     "text": [
      "Lima Metropolitana area (km2): 2844.644974462386\n"
     ]
    }
   ],
   "source": [
    "print(\"Lima Metropolitana area (km2):\", lima_geom.area/1e+6)"
   ]
  },
  {
   "cell_type": "code",
   "execution_count": 41,
   "metadata": {},
   "outputs": [
    {
     "name": "stdout",
     "output_type": "stream",
     "text": [
      "Food Desert Zone area (km2): 2069.2077152355687\n"
     ]
    }
   ],
   "source": [
    "print(\"Food Desert Zone area (km2):\", fd_geom.area/1e+6)"
   ]
  },
  {
   "cell_type": "code",
   "execution_count": 42,
   "metadata": {},
   "outputs": [],
   "source": [
    "lima_urban_polygon = gpd.read_file(\"inputs/lima_urban_area/lima_urban_polygon.geojson\")"
   ]
  },
  {
   "cell_type": "code",
   "execution_count": 43,
   "metadata": {},
   "outputs": [],
   "source": [
    "lima_urban_polygon_proj = ox.projection.project_gdf(lima_urban_polygon, to_crs={'init':'epsg:32718'})"
   ]
  },
  {
   "cell_type": "code",
   "execution_count": 44,
   "metadata": {},
   "outputs": [
    {
     "name": "stdout",
     "output_type": "stream",
     "text": [
      "Urban Food Availbility Zone area (km2): 0    788.0374\n",
      "dtype: float64\n"
     ]
    }
   ],
   "source": [
    "print(\"Urban Food Availbility Zone area (km2):\", lima_urban_polygon_proj.intersection(fa_geom).area/1e+6)"
   ]
  },
  {
   "cell_type": "code",
   "execution_count": 45,
   "metadata": {},
   "outputs": [
    {
     "name": "stdout",
     "output_type": "stream",
     "text": [
      "Lima Metropolitan Urban area (km2): 0    1445.713014\n",
      "dtype: float64\n"
     ]
    }
   ],
   "source": [
    "print(\"Lima Metropolitan Urban area (km2):\",lima_urban_polygon_proj.area/1e+6)"
   ]
  },
  {
   "cell_type": "code",
   "execution_count": 46,
   "metadata": {},
   "outputs": [
    {
     "name": "stdout",
     "output_type": "stream",
     "text": [
      "Urban Food Desert Zone area (km2): 0    657.675614\n",
      "dtype: float64\n"
     ]
    }
   ],
   "source": [
    "print(\"Urban Food Desert Zone area (km2):\", lima_urban_polygon_proj.difference(fa_geom).area/1e+6)"
   ]
  },
  {
   "cell_type": "code",
   "execution_count": 47,
   "metadata": {
    "colab": {},
    "colab_type": "code",
    "id": "0qJqiosSaP3-"
   },
   "outputs": [],
   "source": [
    "all_data_proj = ox.projection.project_gdf(all_data, to_crs={'init':'epsg:32718'})"
   ]
  },
  {
   "cell_type": "code",
   "execution_count": 48,
   "metadata": {
    "colab": {},
    "colab_type": "code",
    "id": "YyfyPxVk2NEW"
   },
   "outputs": [
    {
     "name": "stdout",
     "output_type": "stream",
     "text": [
      "points within a polygon calc. time:  2.409503221511841\n"
     ]
    }
   ],
   "source": [
    "start = time.time()\n",
    "all_data['in_food_desert'] = all_data_proj.geometry.within(fd_geom)\n",
    "wait_time = time.time() - start\n",
    "print('points within a polygon calc. time: ', wait_time)"
   ]
  },
  {
   "cell_type": "code",
   "execution_count": 49,
   "metadata": {
    "colab": {},
    "colab_type": "code",
    "id": "0Yd8t-ZhZ6dY"
   },
   "outputs": [
    {
     "data": {
      "text/plain": [
       "in_food_desert\n",
       "False    479\n",
       "True     140\n",
       "dtype: int64"
      ]
     },
     "execution_count": 49,
     "metadata": {},
     "output_type": "execute_result"
    }
   ],
   "source": [
    "all_data.groupby('in_food_desert').size()"
   ]
  },
  {
   "cell_type": "code",
   "execution_count": 50,
   "metadata": {
    "colab": {},
    "colab_type": "code",
    "id": "Fr1kZQuI3JMF",
    "scrolled": true
   },
   "outputs": [
    {
     "data": {
      "text/plain": [
       "(619, 36)"
      ]
     },
     "execution_count": 50,
     "metadata": {},
     "output_type": "execute_result"
    }
   ],
   "source": [
    "all_data.shape"
   ]
  },
  {
   "cell_type": "code",
   "execution_count": 51,
   "metadata": {
    "colab": {},
    "colab_type": "code",
    "id": "EYxB7tTKxTAB"
   },
   "outputs": [
    {
     "name": "stdout",
     "output_type": "stream",
     "text": [
      "spatial join (point-polygons):  0.28092241287231445\n"
     ]
    }
   ],
   "source": [
    "# Get district for each survey\n",
    "\n",
    "lima_shape.distrito = lima_shape.distrito.replace(to_replace='BRE?A', value='BREÑA')\n",
    "\n",
    "start = time.time()\n",
    "all_data = gpd.sjoin(all_data, lima_shape[['distrito', 'geometry']].copy(), how='left', op='within')\n",
    "wait_time = time.time() - start\n",
    "print('spatial join (point-polygons): ', wait_time)"
   ]
  },
  {
   "cell_type": "code",
   "execution_count": 52,
   "metadata": {
    "colab": {},
    "colab_type": "code",
    "id": "uyCP6VulbMR7"
   },
   "outputs": [
    {
     "data": {
      "text/plain": [
       "0"
      ]
     },
     "execution_count": 52,
     "metadata": {},
     "output_type": "execute_result"
    }
   ],
   "source": [
    "all_data.distrito.isna().sum()"
   ]
  },
  {
   "cell_type": "code",
   "execution_count": 53,
   "metadata": {
    "colab": {},
    "colab_type": "code",
    "id": "tRKENPss3KSa"
   },
   "outputs": [
    {
     "data": {
      "text/plain": [
       "(619, 38)"
      ]
     },
     "execution_count": 53,
     "metadata": {},
     "output_type": "execute_result"
    }
   ],
   "source": [
    "all_data.shape"
   ]
  },
  {
   "cell_type": "code",
   "execution_count": 54,
   "metadata": {
    "colab": {},
    "colab_type": "code",
    "id": "Bazm3epR0zZU"
   },
   "outputs": [
    {
     "data": {
      "text/plain": [
       "distrito\n",
       "ATE                        37\n",
       "BARRANCO                   50\n",
       "CHORRILLOS                  9\n",
       "LA MOLINA                  13\n",
       "LINCE                       4\n",
       "MAGDALENA DEL MAR           3\n",
       "PUEBLO LIBRE                5\n",
       "SAN ISIDRO                 46\n",
       "SAN JUAN DE LURIGANCHO    105\n",
       "SAN MIGUEL                 84\n",
       "SANTIAGO DE SURCO          50\n",
       "SURQUILLO                 101\n",
       "VILLA EL SALVADOR         112\n",
       "dtype: int64"
      ]
     },
     "execution_count": 54,
     "metadata": {},
     "output_type": "execute_result"
    }
   ],
   "source": [
    "all_data.groupby('distrito').size()"
   ]
  },
  {
   "cell_type": "code",
   "execution_count": 55,
   "metadata": {
    "colab": {},
    "colab_type": "code",
    "id": "uCQquvub4RIj"
   },
   "outputs": [
    {
     "data": {
      "text/html": [
       "<div>\n",
       "<style scoped>\n",
       "    .dataframe tbody tr th:only-of-type {\n",
       "        vertical-align: middle;\n",
       "    }\n",
       "\n",
       "    .dataframe tbody tr th {\n",
       "        vertical-align: top;\n",
       "    }\n",
       "\n",
       "    .dataframe thead th {\n",
       "        text-align: right;\n",
       "    }\n",
       "</style>\n",
       "<table border=\"1\" class=\"dataframe\">\n",
       "  <thead>\n",
       "    <tr style=\"text-align: right;\">\n",
       "      <th></th>\n",
       "      <th></th>\n",
       "      <th>latitude</th>\n",
       "    </tr>\n",
       "    <tr>\n",
       "      <th>distrito</th>\n",
       "      <th>in_food_desert</th>\n",
       "      <th></th>\n",
       "    </tr>\n",
       "  </thead>\n",
       "  <tbody>\n",
       "    <tr>\n",
       "      <th>ATE</th>\n",
       "      <th>False</th>\n",
       "      <td>37</td>\n",
       "    </tr>\n",
       "    <tr>\n",
       "      <th>BARRANCO</th>\n",
       "      <th>False</th>\n",
       "      <td>50</td>\n",
       "    </tr>\n",
       "    <tr>\n",
       "      <th>CHORRILLOS</th>\n",
       "      <th>True</th>\n",
       "      <td>9</td>\n",
       "    </tr>\n",
       "    <tr>\n",
       "      <th>LA MOLINA</th>\n",
       "      <th>False</th>\n",
       "      <td>13</td>\n",
       "    </tr>\n",
       "    <tr>\n",
       "      <th>LINCE</th>\n",
       "      <th>False</th>\n",
       "      <td>4</td>\n",
       "    </tr>\n",
       "    <tr>\n",
       "      <th rowspan=\"2\" valign=\"top\">MAGDALENA DEL MAR</th>\n",
       "      <th>False</th>\n",
       "      <td>2</td>\n",
       "    </tr>\n",
       "    <tr>\n",
       "      <th>True</th>\n",
       "      <td>1</td>\n",
       "    </tr>\n",
       "    <tr>\n",
       "      <th>PUEBLO LIBRE</th>\n",
       "      <th>False</th>\n",
       "      <td>5</td>\n",
       "    </tr>\n",
       "    <tr>\n",
       "      <th rowspan=\"2\" valign=\"top\">SAN ISIDRO</th>\n",
       "      <th>False</th>\n",
       "      <td>18</td>\n",
       "    </tr>\n",
       "    <tr>\n",
       "      <th>True</th>\n",
       "      <td>28</td>\n",
       "    </tr>\n",
       "    <tr>\n",
       "      <th rowspan=\"2\" valign=\"top\">SAN JUAN DE LURIGANCHO</th>\n",
       "      <th>False</th>\n",
       "      <td>67</td>\n",
       "    </tr>\n",
       "    <tr>\n",
       "      <th>True</th>\n",
       "      <td>38</td>\n",
       "    </tr>\n",
       "    <tr>\n",
       "      <th>SAN MIGUEL</th>\n",
       "      <th>False</th>\n",
       "      <td>84</td>\n",
       "    </tr>\n",
       "    <tr>\n",
       "      <th rowspan=\"2\" valign=\"top\">SANTIAGO DE SURCO</th>\n",
       "      <th>False</th>\n",
       "      <td>37</td>\n",
       "    </tr>\n",
       "    <tr>\n",
       "      <th>True</th>\n",
       "      <td>13</td>\n",
       "    </tr>\n",
       "    <tr>\n",
       "      <th>SURQUILLO</th>\n",
       "      <th>False</th>\n",
       "      <td>101</td>\n",
       "    </tr>\n",
       "    <tr>\n",
       "      <th rowspan=\"2\" valign=\"top\">VILLA EL SALVADOR</th>\n",
       "      <th>False</th>\n",
       "      <td>61</td>\n",
       "    </tr>\n",
       "    <tr>\n",
       "      <th>True</th>\n",
       "      <td>51</td>\n",
       "    </tr>\n",
       "  </tbody>\n",
       "</table>\n",
       "</div>"
      ],
      "text/plain": [
       "                                       latitude\n",
       "distrito               in_food_desert          \n",
       "ATE                    False                 37\n",
       "BARRANCO               False                 50\n",
       "CHORRILLOS             True                   9\n",
       "LA MOLINA              False                 13\n",
       "LINCE                  False                  4\n",
       "MAGDALENA DEL MAR      False                  2\n",
       "                       True                   1\n",
       "PUEBLO LIBRE           False                  5\n",
       "SAN ISIDRO             False                 18\n",
       "                       True                  28\n",
       "SAN JUAN DE LURIGANCHO False                 67\n",
       "                       True                  38\n",
       "SAN MIGUEL             False                 84\n",
       "SANTIAGO DE SURCO      False                 37\n",
       "                       True                  13\n",
       "SURQUILLO              False                101\n",
       "VILLA EL SALVADOR      False                 61\n",
       "                       True                  51"
      ]
     },
     "execution_count": 55,
     "metadata": {},
     "output_type": "execute_result"
    }
   ],
   "source": [
    "# View number of surveys in each district considering food zone\n",
    "all_data.groupby(['distrito','in_food_desert']).count().iloc[:,0:1]"
   ]
  },
  {
   "cell_type": "code",
   "execution_count": 56,
   "metadata": {
    "colab": {},
    "colab_type": "code",
    "id": "sElEXg2_dka0"
   },
   "outputs": [],
   "source": [
    "markets = pd.DataFrame(all_data['lugar_principal'].unique(), columns=['lugar_principal'])"
   ]
  },
  {
   "cell_type": "code",
   "execution_count": 57,
   "metadata": {
    "colab": {},
    "colab_type": "code",
    "id": "rctF-aiqsvxh"
   },
   "outputs": [],
   "source": [
    "def geocode(address, city, country):\n",
    "    '''\n",
    "    Extends osmnx.geocode to use try/catch for adding city and country to the request.\n",
    "\n",
    "    Parameters:\n",
    "    -----------\n",
    "    address : str\n",
    "    Requested address to geocode\n",
    "    city : str\n",
    "    Expected city where the address is located\n",
    "    country : str\n",
    "    Expected city where the address is located\n",
    "\n",
    "    Returns:\n",
    "    --------\n",
    "    geocoding : List of Shapely Geometry Points\n",
    "    '''\n",
    "  \n",
    "    try:\n",
    "        return ox.geocode(f'{address}, {city}, {country}')\n",
    "    except:\n",
    "        try:\n",
    "            return ox.geocode(f'{address}, {city}')\n",
    "        except:\n",
    "            try:\n",
    "                return ox.geocode(address)\n",
    "            except:\n",
    "                return 0, 0 "
   ]
  },
  {
   "cell_type": "code",
   "execution_count": 58,
   "metadata": {
    "colab": {},
    "colab_type": "code",
    "id": "Prv16ByBq3yO"
   },
   "outputs": [],
   "source": [
    "# Modify market name according to district\n",
    "\n",
    "markets = markets[markets.lugar_principal != 'Mercado de Santa Rosa']\n",
    "markets = markets.append(\n",
    "    pd.DataFrame(\n",
    "        ['Mercado Central Fevacel','Mercado Santa Rosa de Viña del Mar'],\n",
    "        columns=['lugar_principal']\n",
    "    ),\n",
    "    ignore_index=True\n",
    ")\n",
    "\n",
    "all_data[(all_data['distrito'] == 'VILLA EL SALVADOR') &\n",
    "         (all_data['lugar_principal'] == 'Mercado de Santa Rosa')]['lugar_principal'] = 'Mercado Santa Rosa de Viña del Mar'\n",
    "\n",
    "all_data[(all_data['distrito'] == 'SAN JUAN DE LURIGANCHO') &\n",
    "         (all_data['lugar_principal'] == 'Mercado de Santa Rosa')]['lugar_principal'] = 'Mercado Central Fevacel'"
   ]
  },
  {
   "cell_type": "code",
   "execution_count": 59,
   "metadata": {
    "colab": {},
    "colab_type": "code",
    "id": "iAPRGzDFhDdk"
   },
   "outputs": [],
   "source": [
    "# Geocode markets\n",
    "geom_markets = markets.lugar_principal.apply(geocode, args=('Lima', 'Perú'))\n",
    "geometries = [shapely.geometry.Point(x, y) for y, x in geom_markets.values]\n",
    "\n",
    "geomarkets = gpd.GeoDataFrame(\n",
    "    markets,\n",
    "    geometry=geometries,\n",
    "    crs={'init':'epsg:4326'}\n",
    ")"
   ]
  },
  {
   "cell_type": "code",
   "execution_count": 60,
   "metadata": {
    "colab": {},
    "colab_type": "code",
    "id": "BhRPnQ2jNUlN"
   },
   "outputs": [],
   "source": [
    "# Custom point for Mercado La Laguna\n",
    "geomarkets = geomarkets[geomarkets['lugar_principal']!='Mercado La Laguna']\n",
    "temp = {\n",
    "    'lugar_principal': 'Mercado La Laguna',\n",
    "    'geometry': shapely.geometry.Point(-76.9046382, -12.0384654)\n",
    "}\n",
    "temp = pd.DataFrame.from_dict(temp, orient='index').T\n",
    "geomarkets = geomarkets.append(temp, ignore_index=True)"
   ]
  },
  {
   "cell_type": "code",
   "execution_count": 61,
   "metadata": {},
   "outputs": [],
   "source": [
    "# Custom point for Mercado Santa Anita\n",
    "geomarkets = geomarkets[geomarkets['lugar_principal']!='Mercado de Santa Anita']\n",
    "temp = {\n",
    "    'lugar_principal': 'Mercado de Santa Anita',\n",
    "    'geometry': shapely.geometry.Point(-76.957434, -12.043319)\n",
    "}\n",
    "temp = pd.DataFrame.from_dict(temp, orient='index').T\n",
    "geomarkets = geomarkets.append(temp, ignore_index=True)"
   ]
  },
  {
   "cell_type": "code",
   "execution_count": 62,
   "metadata": {
    "colab": {},
    "colab_type": "code",
    "id": "5IQYz2GzDtGO"
   },
   "outputs": [],
   "source": [
    "# Comunidad de la Sierra geometry \n",
    "geomarkets.loc[geomarkets['lugar_principal']=='Comunidad de la Sierra','geometry'] = np.nan # Not found"
   ]
  },
  {
   "cell_type": "code",
   "execution_count": 63,
   "metadata": {
    "colab": {},
    "colab_type": "code",
    "id": "thMw_3EUrFjC"
   },
   "outputs": [],
   "source": [
    "geomarkets = geomarkets.dropna()"
   ]
  },
  {
   "cell_type": "code",
   "execution_count": 64,
   "metadata": {},
   "outputs": [],
   "source": [
    "drop_index = geomarkets[geomarkets['lugar_principal']=='missing'].index\n",
    "geomarkets.drop(labels=drop_index, inplace=True)"
   ]
  },
  {
   "cell_type": "code",
   "execution_count": 65,
   "metadata": {
    "colab": {},
    "colab_type": "code",
    "id": "RurOFwiO2ZNO"
   },
   "outputs": [],
   "source": [
    "# Project to UTM\n",
    "geomarkets_proj = ox.projection.project_gdf(geomarkets, to_crs={'init':'epsg:32718'})"
   ]
  },
  {
   "cell_type": "code",
   "execution_count": 67,
   "metadata": {
    "colab": {},
    "colab_type": "code",
    "id": "M3xbNEYGnp-L"
   },
   "outputs": [],
   "source": [
    "# Add market geometry and nanostore geometry\n",
    "nanostore_market_dist = pd.merge(\n",
    "    left=all_data[['lugar_principal','geometry']].to_crs({'init':'epsg:32718'}),\n",
    "    right=geomarkets_proj,\n",
    "    how='left',\n",
    "    on='lugar_principal',\n",
    "    suffixes=('','_markets')\n",
    ")"
   ]
  },
  {
   "cell_type": "code",
   "execution_count": 73,
   "metadata": {},
   "outputs": [
    {
     "data": {
      "text/html": [
       "<div>\n",
       "<style scoped>\n",
       "    .dataframe tbody tr th:only-of-type {\n",
       "        vertical-align: middle;\n",
       "    }\n",
       "\n",
       "    .dataframe tbody tr th {\n",
       "        vertical-align: top;\n",
       "    }\n",
       "\n",
       "    .dataframe thead th {\n",
       "        text-align: right;\n",
       "    }\n",
       "</style>\n",
       "<table border=\"1\" class=\"dataframe\">\n",
       "  <thead>\n",
       "    <tr style=\"text-align: right;\">\n",
       "      <th></th>\n",
       "      <th>lugar_principal</th>\n",
       "      <th>geometry</th>\n",
       "    </tr>\n",
       "  </thead>\n",
       "  <tbody>\n",
       "    <tr>\n",
       "      <th>1</th>\n",
       "      <td>Mercado de Chorrillos</td>\n",
       "      <td>POINT (-77.02238 -12.16909)</td>\n",
       "    </tr>\n",
       "    <tr>\n",
       "      <th>2</th>\n",
       "      <td>Mercado Mayorista Plaza Unicachi Sur</td>\n",
       "      <td>POINT (-76.96467 -12.19929)</td>\n",
       "    </tr>\n",
       "    <tr>\n",
       "      <th>3</th>\n",
       "      <td>Mercado Minorista - La Parada</td>\n",
       "      <td>POINT (-77.01113 -12.06425)</td>\n",
       "    </tr>\n",
       "    <tr>\n",
       "      <th>5</th>\n",
       "      <td>Mercado de Frutas</td>\n",
       "      <td>POINT (-76.99840 -12.06861)</td>\n",
       "    </tr>\n",
       "    <tr>\n",
       "      <th>6</th>\n",
       "      <td>Mercado San Miguel</td>\n",
       "      <td>POINT (-77.09048 -12.08617)</td>\n",
       "    </tr>\n",
       "    <tr>\n",
       "      <th>7</th>\n",
       "      <td>Gran Mercado Mayorista De Lima</td>\n",
       "      <td>POINT (-76.94403 -12.03878)</td>\n",
       "    </tr>\n",
       "    <tr>\n",
       "      <th>8</th>\n",
       "      <td>Mercado Productores</td>\n",
       "      <td>POINT (-77.05812 -12.00995)</td>\n",
       "    </tr>\n",
       "    <tr>\n",
       "      <th>9</th>\n",
       "      <td>Mercado de Frutas de San Luis</td>\n",
       "      <td>POINT (-76.99840 -12.06861)</td>\n",
       "    </tr>\n",
       "    <tr>\n",
       "      <th>10</th>\n",
       "      <td>Mercado de Surquillo</td>\n",
       "      <td>POINT (-77.01701 -12.11678)</td>\n",
       "    </tr>\n",
       "    <tr>\n",
       "      <th>11</th>\n",
       "      <td>Mercado Caquetá</td>\n",
       "      <td>POINT (-77.04348 -12.03497)</td>\n",
       "    </tr>\n",
       "    <tr>\n",
       "      <th>12</th>\n",
       "      <td>Mercado Lurin</td>\n",
       "      <td>POINT (-76.91094 -12.23682)</td>\n",
       "    </tr>\n",
       "    <tr>\n",
       "      <th>14</th>\n",
       "      <td>Mercado Barranco</td>\n",
       "      <td>POINT (-77.01568 -12.14205)</td>\n",
       "    </tr>\n",
       "    <tr>\n",
       "      <th>15</th>\n",
       "      <td>Mercado San Martin de Porres</td>\n",
       "      <td>POINT (-77.07632 -11.99568)</td>\n",
       "    </tr>\n",
       "    <tr>\n",
       "      <th>16</th>\n",
       "      <td>Mercado Los Pazos</td>\n",
       "      <td>POINT (-77.01663 -12.15009)</td>\n",
       "    </tr>\n",
       "    <tr>\n",
       "      <th>17</th>\n",
       "      <td>Mercado Central</td>\n",
       "      <td>POINT (-77.02757 -12.05268)</td>\n",
       "    </tr>\n",
       "    <tr>\n",
       "      <th>18</th>\n",
       "      <td>Mercado Tupac Amaru</td>\n",
       "      <td>POINT (-76.96766 -12.02193)</td>\n",
       "    </tr>\n",
       "    <tr>\n",
       "      <th>19</th>\n",
       "      <td>Centro Comercial Plaza Villa Sur</td>\n",
       "      <td>POINT (-76.93334 -12.21244)</td>\n",
       "    </tr>\n",
       "    <tr>\n",
       "      <th>20</th>\n",
       "      <td>Mercado Central de Mangomarca</td>\n",
       "      <td>POINT (-76.98493 -12.01697)</td>\n",
       "    </tr>\n",
       "    <tr>\n",
       "      <th>21</th>\n",
       "      <td>Mercado El Bosque</td>\n",
       "      <td>POINT (-77.01318 -12.03052)</td>\n",
       "    </tr>\n",
       "    <tr>\n",
       "      <th>22</th>\n",
       "      <td>Mercado Modelo de Villa el Salvador</td>\n",
       "      <td>POINT (-76.94694 -12.20863)</td>\n",
       "    </tr>\n",
       "    <tr>\n",
       "      <th>23</th>\n",
       "      <td>Mercado Vencedores</td>\n",
       "      <td>POINT (-77.00027 -11.99808)</td>\n",
       "    </tr>\n",
       "    <tr>\n",
       "      <th>24</th>\n",
       "      <td>Mercado José Carlos Mariategui</td>\n",
       "      <td>POINT (-77.00110 -11.96010)</td>\n",
       "    </tr>\n",
       "    <tr>\n",
       "      <th>25</th>\n",
       "      <td>Mercado Jorge Chavez</td>\n",
       "      <td>POINT (-77.00778 -12.06124)</td>\n",
       "    </tr>\n",
       "    <tr>\n",
       "      <th>26</th>\n",
       "      <td>Mercado San Luis</td>\n",
       "      <td>POINT (-77.00441 -12.08435)</td>\n",
       "    </tr>\n",
       "    <tr>\n",
       "      <th>27</th>\n",
       "      <td>Mercado Central Fevacel</td>\n",
       "      <td>POINT (-77.05539 -12.00625)</td>\n",
       "    </tr>\n",
       "    <tr>\n",
       "      <th>28</th>\n",
       "      <td>Mercado Santa Rosa de Viña del Mar</td>\n",
       "      <td>POINT (-76.95456 -12.21044)</td>\n",
       "    </tr>\n",
       "    <tr>\n",
       "      <th>29</th>\n",
       "      <td>Mercado La Laguna</td>\n",
       "      <td>POINT (-76.90464 -12.03847)</td>\n",
       "    </tr>\n",
       "    <tr>\n",
       "      <th>30</th>\n",
       "      <td>Mercado de Santa Anita</td>\n",
       "      <td>POINT (-76.95743 -12.04332)</td>\n",
       "    </tr>\n",
       "  </tbody>\n",
       "</table>\n",
       "</div>"
      ],
      "text/plain": [
       "                         lugar_principal                     geometry\n",
       "1                  Mercado de Chorrillos  POINT (-77.02238 -12.16909)\n",
       "2   Mercado Mayorista Plaza Unicachi Sur  POINT (-76.96467 -12.19929)\n",
       "3          Mercado Minorista - La Parada  POINT (-77.01113 -12.06425)\n",
       "5                      Mercado de Frutas  POINT (-76.99840 -12.06861)\n",
       "6                     Mercado San Miguel  POINT (-77.09048 -12.08617)\n",
       "7         Gran Mercado Mayorista De Lima  POINT (-76.94403 -12.03878)\n",
       "8                    Mercado Productores  POINT (-77.05812 -12.00995)\n",
       "9          Mercado de Frutas de San Luis  POINT (-76.99840 -12.06861)\n",
       "10                  Mercado de Surquillo  POINT (-77.01701 -12.11678)\n",
       "11                       Mercado Caquetá  POINT (-77.04348 -12.03497)\n",
       "12                         Mercado Lurin  POINT (-76.91094 -12.23682)\n",
       "14                      Mercado Barranco  POINT (-77.01568 -12.14205)\n",
       "15          Mercado San Martin de Porres  POINT (-77.07632 -11.99568)\n",
       "16                     Mercado Los Pazos  POINT (-77.01663 -12.15009)\n",
       "17                       Mercado Central  POINT (-77.02757 -12.05268)\n",
       "18                   Mercado Tupac Amaru  POINT (-76.96766 -12.02193)\n",
       "19      Centro Comercial Plaza Villa Sur  POINT (-76.93334 -12.21244)\n",
       "20         Mercado Central de Mangomarca  POINT (-76.98493 -12.01697)\n",
       "21                     Mercado El Bosque  POINT (-77.01318 -12.03052)\n",
       "22   Mercado Modelo de Villa el Salvador  POINT (-76.94694 -12.20863)\n",
       "23                    Mercado Vencedores  POINT (-77.00027 -11.99808)\n",
       "24        Mercado José Carlos Mariategui  POINT (-77.00110 -11.96010)\n",
       "25                  Mercado Jorge Chavez  POINT (-77.00778 -12.06124)\n",
       "26                      Mercado San Luis  POINT (-77.00441 -12.08435)\n",
       "27               Mercado Central Fevacel  POINT (-77.05539 -12.00625)\n",
       "28    Mercado Santa Rosa de Viña del Mar  POINT (-76.95456 -12.21044)\n",
       "29                     Mercado La Laguna  POINT (-76.90464 -12.03847)\n",
       "30                Mercado de Santa Anita  POINT (-76.95743 -12.04332)"
      ]
     },
     "execution_count": 73,
     "metadata": {},
     "output_type": "execute_result"
    }
   ],
   "source": [
    "geomarkets"
   ]
  },
  {
   "cell_type": "code",
   "execution_count": null,
   "metadata": {},
   "outputs": [],
   "source": []
  },
  {
   "cell_type": "code",
   "execution_count": null,
   "metadata": {
    "colab": {},
    "colab_type": "code",
    "id": "YYBr008Uzfp-",
    "scrolled": false
   },
   "outputs": [],
   "source": [
    "fig, ax = plt.subplots(1,1)\n",
    "lima_shape.plot(figsize=(5,10), alpha=0.5, ax=ax)\n",
    "all_data.plot(color='red', axes=ax, marker='o')\n",
    "geomarkets.plot(color='green', axes=ax, marker='s')\n",
    "\n",
    "plt.show()"
   ]
  },
  {
   "cell_type": "code",
   "execution_count": null,
   "metadata": {},
   "outputs": [],
   "source": [
    "fa_geom_ = gpd.GeoDataFrame(geometry=[fa_geom], crs=lima_urban_polygon_proj.crs).to_crs(lima_urban_polygon.crs)"
   ]
  },
  {
   "cell_type": "code",
   "execution_count": null,
   "metadata": {},
   "outputs": [],
   "source": [
    "df_marketsINEI = pd.read_csv(\"~/Documents/geodude/data/input/database_mercadosINEI.csv\")\n",
    "\n",
    "change_ix = df_marketsINEI[df_marketsINEI['longitude']<-100].index\n",
    "df_marketsINEI.loc[change_ix,['longitude', 'latitude']] = df_marketsINEI.loc[change_ix,['longitude', 'latitude']]/1000000\n",
    "\n",
    "\n",
    "gdf_marketsINEI = gpd.GeoDataFrame(data=df_marketsINEI,\n",
    "                                   geometry=gpd.points_from_xy(df_marketsINEI['longitude'], df_marketsINEI['latitude']),\n",
    "                                   crs={'init':'epsg:4326'}\n",
    "                                  )"
   ]
  },
  {
   "cell_type": "code",
   "execution_count": null,
   "metadata": {},
   "outputs": [],
   "source": [
    "fig, ax = plt.subplots(1,1, figsize=(15,10))\n",
    "\n",
    "lima_urban_polygon.plot(ax=ax)\n",
    "gpd.GeoDataFrame(\n",
    "    geometry=[fa_geom],\n",
    "    crs=lima_urban_polygon_proj.crs\n",
    ").to_crs(\n",
    "    crs=lima_urban_polygon.crs\n",
    ").plot(color='red', axes=ax, alpha=0.5)\n",
    "gdf_marketsINEI.plot(ax=ax, markersize=15, marker='*', color=\"green\")\n",
    "leaflet.show()"
   ]
  },
  {
   "cell_type": "code",
   "execution_count": null,
   "metadata": {
    "colab": {},
    "colab_type": "code",
    "id": "nqulhreB4ce0"
   },
   "outputs": [],
   "source": [
    "# Euclidean distance from nanostore to market\n",
    "# nanostore_market_dist.distance(gpd.GeoSeries(nanostore_market_dist['geometry_markets']))"
   ]
  },
  {
   "cell_type": "code",
   "execution_count": null,
   "metadata": {
    "colab": {},
    "colab_type": "code",
    "id": "y3qnestu7c6U"
   },
   "outputs": [],
   "source": [
    "def manhattan_distance(a, b):\n",
    "    '''\n",
    "    Calculates manhattan distance between two Point geometries in UTM\n",
    "\n",
    "    Parameters:\n",
    "    -----------\n",
    "        a: Shapely Point Geometry\n",
    "        b: Shapely Point Geometry\n",
    "\n",
    "    Return:\n",
    "    -------\n",
    "        d: Float\n",
    "        Manhattan distance (also known as taxicab or cityblock distance) between\n",
    "        a and b (if a or b are not Shapely Point Geometries returns np.nan).\n",
    "\n",
    "    '''\n",
    "    try:\n",
    "        assert(type(a)==shapely.geometry.Point)\n",
    "        assert(type(b)==shapely.geometry.Point)\n",
    "        d = np.abs(a.x - b.x) + np.abs(a.y - b.y)\n",
    "    except:\n",
    "        d = np.nan # Oops!  That was no valid dtype.\n",
    "    return d"
   ]
  },
  {
   "cell_type": "code",
   "execution_count": null,
   "metadata": {
    "colab": {},
    "colab_type": "code",
    "id": "aYG4a2TiIU1E"
   },
   "outputs": [],
   "source": [
    "all_data['distance_to_market'] = nanostore_market_dist.apply(\n",
    "    lambda x: manhattan_distance(\n",
    "        x.geometry,\n",
    "        x.geometry_markets\n",
    "    ),\n",
    "    axis=1\n",
    ") # Manhattan distance from nanostore to market"
   ]
  },
  {
   "cell_type": "code",
   "execution_count": null,
   "metadata": {},
   "outputs": [],
   "source": [
    "nanostore_market_dist"
   ]
  },
  {
   "cell_type": "code",
   "execution_count": null,
   "metadata": {
    "colab": {},
    "colab_type": "code",
    "id": "FRYTf94otGTc"
   },
   "outputs": [],
   "source": [
    "def get_distance_to_closest_target(orig, target):\n",
    "    '''\n",
    "    Calculate distance from many origin points to many target points,\n",
    "    then filter min distance for each origin point.\n",
    "\n",
    "    Parameters:\n",
    "    -----------\n",
    "        orig: Pandas Series containing shapely Points geometries.\n",
    "        Origin points\n",
    "        target: Pandas Series containing shapely Points geometries.\n",
    "        Target points\n",
    "\n",
    "    Return:\n",
    "    -------\n",
    "        dist_to_closest_target: Pandas Series\n",
    "        Distance to the closest target point for each orig point\n",
    "    '''\n",
    "    distance = pd.DataFrame(data=[], index=orig.index, columns=range(target.shape[0]))\n",
    "    for i, geom in enumerate(target):\n",
    "        distance.iloc[:,i] = orig.distance(geom)\n",
    "    \n",
    "    dist_to_closest_target = distance.min(axis=1)\n",
    "    return dist_to_closest_target"
   ]
  },
  {
   "cell_type": "code",
   "execution_count": null,
   "metadata": {
    "colab": {},
    "colab_type": "code",
    "id": "2SOC7omIzW2b"
   },
   "outputs": [],
   "source": [
    "all_data['dist_2closest_mkt'] = get_distance_to_closest_target(all_data_proj.geometry, geomkts_proj.geometry)"
   ]
  },
  {
   "cell_type": "code",
   "execution_count": null,
   "metadata": {
    "colab": {},
    "colab_type": "code",
    "id": "PjoTDg2C10NJ"
   },
   "outputs": [],
   "source": [
    "all_data['dist_2closest_mkt'].isna().sum()"
   ]
  },
  {
   "cell_type": "code",
   "execution_count": null,
   "metadata": {
    "colab": {},
    "colab_type": "code",
    "id": "Xixr3l_Y2KLj"
   },
   "outputs": [],
   "source": [
    "all_data.groupby('in_food_desert').size()"
   ]
  },
  {
   "cell_type": "code",
   "execution_count": null,
   "metadata": {},
   "outputs": [],
   "source": [
    "city_blocks = gpd.read_file('inputs/manzanas_nse/mz_lima_region.shp')"
   ]
  },
  {
   "cell_type": "code",
   "execution_count": null,
   "metadata": {},
   "outputs": [],
   "source": [
    "city_blocks = city_blocks[~city_blocks.NSE07.isna()]"
   ]
  },
  {
   "cell_type": "code",
   "execution_count": null,
   "metadata": {},
   "outputs": [],
   "source": [
    "all_data.columns"
   ]
  },
  {
   "cell_type": "code",
   "execution_count": null,
   "metadata": {},
   "outputs": [],
   "source": [
    "all_data = gpd.sjoin(left_df=all_data,\n",
    "              right_df=city_blocks[['NSE07','geometry']],\n",
    "              how='left',\n",
    "              op='intersects',\n",
    "              lsuffix='left2',\n",
    "              rsuffix='right2')"
   ]
  },
  {
   "cell_type": "code",
   "execution_count": null,
   "metadata": {},
   "outputs": [],
   "source": [
    "all_data.isna().sum()"
   ]
  },
  {
   "cell_type": "code",
   "execution_count": null,
   "metadata": {},
   "outputs": [],
   "source": [
    "def fill_nse(x):\n",
    "    idx = city_blocks.geometry.distance(x['geometry']).idxmin()\n",
    "    x['NSE07'] = city_blocks.loc[idx, 'NSE07']\n",
    "    return x"
   ]
  },
  {
   "cell_type": "code",
   "execution_count": null,
   "metadata": {
    "scrolled": true
   },
   "outputs": [],
   "source": [
    "missing_ix = all_data['NSE07'].isna().index\n",
    "\n",
    "all_data.loc[missing_ix, :] = all_data.loc[missing_ix, :].apply(fill_nse, axis=1)"
   ]
  },
  {
   "cell_type": "code",
   "execution_count": null,
   "metadata": {
    "scrolled": false
   },
   "outputs": [],
   "source": [
    "all_data.isna().sum()"
   ]
  },
  {
   "cell_type": "code",
   "execution_count": null,
   "metadata": {
    "colab": {},
    "colab_type": "code",
    "id": "JqQgo40Ntzrg"
   },
   "outputs": [],
   "source": [
    "lima_grid = pd.read_csv('inputs/LIM_ClustersData.csv')\n",
    "\n",
    "lima_grid_point = gpd.GeoDataFrame(\n",
    "    data=lima_grid,\n",
    "    crs={'init': 'epsg:4326'},\n",
    "    geometry=[Point(xy) for xy in zip(lima_grid['lon'], lima_grid['lat'])]\n",
    ")\n",
    "\n",
    "# Coordinate system\n",
    "proj_utm = {'datum': 'WGS84', 'ellps': 'WGS84', 'proj': 'utm', 'zone': 18, 'units': 'm'}\n",
    "lima_grid_proj = lima_grid_point.to_crs(proj_utm)\n",
    "buffer = lima_grid_proj.buffer(distance=500)\n",
    "grid = buffer.envelope\n",
    "grid = grid.to_crs({'init': 'epsg:4326'})\n",
    "\n",
    "lima_grid = gpd.GeoDataFrame(\n",
    "    data=lima_grid,\n",
    "    crs={'init': 'epsg:4326'},\n",
    "    geometry=grid\n",
    ")"
   ]
  },
  {
   "cell_type": "code",
   "execution_count": null,
   "metadata": {},
   "outputs": [],
   "source": [
    "selected_vars_df = lima_grid[['population', 'betweenness_centrality_avg',\n",
    "                              'kopt+0_Clusters','geometry']]"
   ]
  },
  {
   "cell_type": "code",
   "execution_count": null,
   "metadata": {},
   "outputs": [],
   "source": [
    "all_data = all_data.drop(labels=['index_right','index_right2'], axis=1)"
   ]
  },
  {
   "cell_type": "code",
   "execution_count": null,
   "metadata": {},
   "outputs": [],
   "source": [
    "all_data = gpd.sjoin(left_df=all_data, right_df=selected_vars_df, how='left', op='within')"
   ]
  },
  {
   "cell_type": "code",
   "execution_count": null,
   "metadata": {},
   "outputs": [],
   "source": [
    "all_data['kopt+0_Clusters'] = all_data['kopt+0_Clusters'].astype(str)"
   ]
  },
  {
   "cell_type": "code",
   "execution_count": null,
   "metadata": {},
   "outputs": [],
   "source": [
    "all_data.isna().sum()"
   ]
  },
  {
   "cell_type": "code",
   "execution_count": null,
   "metadata": {},
   "outputs": [],
   "source": [
    "# make search tree with complete vars\n",
    "geocomplete_ix = all_data[~all_data['index_right'].isna()].index\n",
    "data = all_data.loc[geocomplete_ix, :]\n",
    "data_for_search = all_data.loc[geocomplete_ix, ['latitude','longitude']]\n",
    "search_kdtree = KDTree(data_for_search)"
   ]
  },
  {
   "cell_type": "code",
   "execution_count": null,
   "metadata": {},
   "outputs": [],
   "source": [
    "geomissings_ix = all_data[all_data.index_right.isna()].index\n",
    "query_data = all_data.loc[geomissings_ix, ['latitude','longitude']]"
   ]
  },
  {
   "cell_type": "code",
   "execution_count": null,
   "metadata": {},
   "outputs": [],
   "source": [
    "d, i = search_kdtree.query(query_data)"
   ]
  },
  {
   "cell_type": "code",
   "execution_count": null,
   "metadata": {},
   "outputs": [],
   "source": [
    "vars_to_geofill = ['population','betweenness_centrality_avg','kopt+0_Clusters']\n",
    "all_data.loc[geomissings_ix,vars_to_geofill] = data.iloc[i,-3:].values"
   ]
  },
  {
   "cell_type": "code",
   "execution_count": null,
   "metadata": {},
   "outputs": [],
   "source": [
    "all_data['kopt+0_Clusters'] = all_data['kopt+0_Clusters'].astype(str)"
   ]
  },
  {
   "cell_type": "code",
   "execution_count": null,
   "metadata": {
    "scrolled": false
   },
   "outputs": [],
   "source": [
    "all_data.isna().sum()"
   ]
  },
  {
   "cell_type": "code",
   "execution_count": null,
   "metadata": {
    "colab": {},
    "colab_type": "code",
    "id": "RD7_D2J0vcka"
   },
   "outputs": [],
   "source": [
    "# Save final dataset\n",
    "all_data.to_file('outputs/newvars_surveys.geojson', driver='GeoJSON')"
   ]
  },
  {
   "cell_type": "code",
   "execution_count": null,
   "metadata": {},
   "outputs": [],
   "source": [
    "sum(all_data[all_data['venta_bool'] == 'Vende frutas y verduras']['num_recojos_fv'] > 0) / all_data[all_data['venta_bool'] == 'Vende frutas y verduras'].shape[0]"
   ]
  },
  {
   "cell_type": "code",
   "execution_count": null,
   "metadata": {},
   "outputs": [],
   "source": [
    "all_data['venta_bool']"
   ]
  },
  {
   "cell_type": "code",
   "execution_count": 75,
   "metadata": {},
   "outputs": [],
   "source": [
    "geomarkets.to_file(\"outputs/markets.geojson\", driver='GeoJSON')"
   ]
  },
  {
   "cell_type": "code",
   "execution_count": null,
   "metadata": {},
   "outputs": [],
   "source": []
  }
 ],
 "metadata": {
  "colab": {
   "collapsed_sections": [
    "Rechy2ilgAU7",
    "Bte6s6EjgxVx",
    "_-jaoM-Jiqtr",
    "lbmDyKoI5cuL",
    "alI0VKaaf8Nz",
    "J0rxnTe5fOIu",
    "2EXYKg-IrxHC",
    "52ULC2znr8ny",
    "_6OLxQvnk2Lv"
   ],
   "name": "data_cleaning_surveys.ipynb",
   "provenance": [],
   "version": "0.3.2"
  },
  "kernelspec": {
   "display_name": "Python 3",
   "language": "python",
   "name": "python3"
  },
  "language_info": {
   "codemirror_mode": {
    "name": "ipython",
    "version": 3
   },
   "file_extension": ".py",
   "mimetype": "text/x-python",
   "name": "python",
   "nbconvert_exporter": "python",
   "pygments_lexer": "ipython3",
   "version": "3.7.3"
  }
 },
 "nbformat": 4,
 "nbformat_minor": 1
}
